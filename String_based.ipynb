{
 "cells": [
  {
   "cell_type": "code",
   "execution_count": 4,
   "id": "b8c66fb0-1593-41b2-8153-449ab39f0284",
   "metadata": {},
   "outputs": [
    {
     "name": "stdout",
     "output_type": "stream",
     "text": [
      "total vowel is  7\n",
      "total cons is 13\n"
     ]
    }
   ],
   "source": [
    "#1 count of vowel and counsaount\n",
    "s=\"python coding is awsome\"\n",
    "v=0\n",
    "c=0\n",
    "for i in range(len(s)):\n",
    "    if s[i]==' ':\n",
    "        continue\n",
    "    elif s[i] in ['a','e','i','o','u','A','E','I','O','U']:\n",
    "        v+=1\n",
    "    else:\n",
    "        c+=1\n",
    "print(\"total vowel is \",v)\n",
    "print(\"total cons is\",c)\n",
    "    "
   ]
  },
  {
   "cell_type": "code",
   "execution_count": 16,
   "id": "3e45447b-5405-46a4-9aba-075523000eda",
   "metadata": {},
   "outputs": [
    {
     "name": "stdout",
     "output_type": "stream",
     "text": [
      "python c@d@ng is @w@s@m@\n"
     ]
    }
   ],
   "source": [
    "s = \"python coding is awesome\"\n",
    "words = s.split()\n",
    "\n",
    "for i in range(len(words)):\n",
    "    vowels = \"aeiouAEIOU\"\n",
    "    if sum(1 for ch in words[i] if ch in vowels) >= 2:\n",
    "        words[i] = \"\".join(\"@\" if ch in vowels else ch for ch in words[i])\n",
    "\n",
    "print(\" \".join(words))\n",
    "\n",
    "#method2\n"
   ]
  },
  {
   "cell_type": "code",
   "execution_count": 6,
   "id": "1c03a8cf-9abe-4b9b-b99a-dd89680f5610",
   "metadata": {},
   "outputs": [
    {
     "name": "stdout",
     "output_type": "stream",
     "text": [
      " hEY yOUR bEAUTIfUL\n"
     ]
    }
   ],
   "source": [
    "#3. conversion upper to lower, and lower to upper\n",
    "s=\"Hey Your BeautiFul\"\n",
    "text=\" \"\n",
    "for i in s:\n",
    "    if i>='A' and i<='Z':\n",
    "        text+=chr(ord(i)+32)\n",
    "    elif i>='a' and i<='z':\n",
    "        text+=chr(ord(i)-32)\n",
    "    else:\n",
    "        text+=i\n",
    "print(text)\n",
    "    "
   ]
  },
  {
   "cell_type": "code",
   "execution_count": null,
   "id": "436e1587-bdae-4c2d-9064-bd8014bfcb6a",
   "metadata": {},
   "outputs": [],
   "source": []
  },
  {
   "cell_type": "code",
   "execution_count": 18,
   "id": "1c1f54f6-3e60-4da9-a561-aeb0894a8f04",
   "metadata": {},
   "outputs": [
    {
     "name": "stdout",
     "output_type": "stream",
     "text": [
      "PYTHON\n"
     ]
    }
   ],
   "source": [
    "#Convert Lowercase Letters to Uppercase Without upper()\n",
    "text=\"python\"\n",
    "upper=\"\"\n",
    "for i in text:\n",
    "    upper+=chr(ord(i)-32)\n",
    "print(upper)"
   ]
  },
  {
   "cell_type": "code",
   "execution_count": 24,
   "id": "85a4e676-9f5f-4990-88f4-128dcf2319d9",
   "metadata": {},
   "outputs": [
    {
     "name": "stdout",
     "output_type": "stream",
     "text": [
      "hll wrld\n"
     ]
    }
   ],
   "source": [
    "# Remove All Vowels Without replace()\n",
    "a=\"hello world\"\n",
    "# l=a.split()\n",
    "# print()\n",
    "new=\"\"\n",
    "for i in a:\n",
    "    if i in \"aeiouAEIOU\":\n",
    "        pass\n",
    "    else:\n",
    "        new+=i\n",
    "print(new)"
   ]
  },
  {
   "cell_type": "code",
   "execution_count": 28,
   "id": "be7f5d87-9e31-4083-9654-2701fe397d7d",
   "metadata": {},
   "outputs": [
    {
     "name": "stdout",
     "output_type": "stream",
     "text": [
      "{'s': 3, 'w': 1, 'i': 1}\n",
      "w\n",
      "{'s': 3, 'w': 1, 'i': 1}\n",
      "s\n"
     ]
    }
   ],
   "source": [
    "#Find the First Non-Repeating Character\n",
    "b=\"swiss\"\n",
    "d={}\n",
    "for i in b:\n",
    "    if i in d:\n",
    "        d[i]+=1\n",
    "    else:\n",
    "        d[i]=1\n",
    "print(d)\n",
    "print(min(d,key=d.get))\n",
    "\n",
    "\n",
    "# Find the Most Repeated Character\n",
    "b=\"swiss\"\n",
    "d={}\n",
    "for i in b:\n",
    "    if i in d:\n",
    "        d[i]+=1\n",
    "    else:\n",
    "        d[i]=1\n",
    "print(d)\n",
    "print(max(d,key=d.get))"
   ]
  },
  {
   "cell_type": "code",
   "execution_count": 34,
   "id": "f524d259-cae0-4cea-8762-242cc40d725a",
   "metadata": {},
   "outputs": [
    {
     "name": "stdout",
     "output_type": "stream",
     "text": [
      "abcdeabcd\n"
     ]
    }
   ],
   "source": [
    "#Remove Consecutive Duplicate Characters\n",
    "c=\"aaabbcdddeaabbcdff\"\n",
    "new=\"\"\n",
    "for i in range(len(c)-1):\n",
    "    if c[i]==c[i+1]:\n",
    "        pass\n",
    "    else:\n",
    "        new+=c[i]\n",
    "print(new)\n"
   ]
  },
  {
   "cell_type": "code",
   "execution_count": null,
   "id": "a8c2df11-f8b1-40c8-a936-19c57ec0008d",
   "metadata": {},
   "outputs": [],
   "source": []
  },
  {
   "cell_type": "code",
   "execution_count": 39,
   "id": "b59b96a6-8d25-446f-9189-4dc243c35c33",
   "metadata": {},
   "outputs": [
    {
     "name": "stdout",
     "output_type": "stream",
     "text": [
      "METHOD 1\n",
      "before conversion:  Hey Your Beautiful\n",
      "after conversion:  hey_your_beautiful\n",
      "\n",
      "METHOD 2\n",
      "before conversion:  Hey Your Beautiful\n",
      "after conversion:  hey_your_beautiful\n"
     ]
    }
   ],
   "source": [
    "#convert the word into camelCase to snake_case\n",
    "a=\"Hey Your Beautiful\"\n",
    "#hey_your_beautiful\n",
    "print(\"METHOD 1\")\n",
    "print(\"before conversion: \",a)\n",
    "new=\"\"\n",
    "for i in range(len(a)):\n",
    "    if a[i]==\" \":\n",
    "        new+=\"_\"\n",
    "    elif a[i]>='A' and a[i]<='Z':\n",
    "        new+=chr(ord(a[i])+32)\n",
    "    else:\n",
    "        new+=a[i]\n",
    "print(\"after conversion: \",new)\n",
    "print()\n",
    "print(\"METHOD 2\")\n",
    "# OR\n",
    "a=\"Hey Your Beautiful\"\n",
    "#hey_your_beautiful\n",
    "print(\"before conversion: \",a)\n",
    "new=\"\"\n",
    "new+=chr(ord(a[0])+32)\n",
    "for i in range(1,len(a)):\n",
    "    if a[i]==\" \":\n",
    "        new+=\"_\"\n",
    "    elif a[i-1]==\" \":\n",
    "        new+=chr(ord(a[i])+32)\n",
    "    else:\n",
    "        new+=a[i]\n",
    "print(\"after conversion: \",new)"
   ]
  },
  {
   "cell_type": "code",
   "execution_count": 44,
   "id": "bdb5cae6-d4a2-4135-9daf-65b78a96cdbb",
   "metadata": {},
   "outputs": [
    {
     "name": "stdout",
     "output_type": "stream",
     "text": [
      "METHOD 1 doesn't work so METHOD 2\n",
      "before conversion:  hey_your_beautiful\n",
      "after conversion:   Hey Your Beautiful\n"
     ]
    }
   ],
   "source": [
    "#convert the word into snake_case to Camel Case\n",
    "a=\"hey_your_beautiful\"\n",
    "#hey_your_beautiful\n",
    "print(\"METHOD 1 doesn't work so METHOD 2\")\n",
    "print(\"before conversion: \",a)\n",
    "new=\" \"\n",
    "new+=chr(ord(a[0])-32)\n",
    "for i in range(1,len(a)):\n",
    "    if a[i]==\"_\":\n",
    "        new+=\" \"\n",
    "    elif a[i-1]==\"_\":      \n",
    "        new+=chr(ord(a[i])-32)\n",
    "    else:\n",
    "        new+=a[i]\n",
    "print(\"after conversion: \",new)"
   ]
  },
  {
   "cell_type": "code",
   "execution_count": 68,
   "id": "8866157c-67b2-4d04-8abc-e6a93ff69797",
   "metadata": {},
   "outputs": [
    {
     "name": "stdout",
     "output_type": "stream",
     "text": [
      "METHOD 1\n",
      "azbycxew\n",
      "\n",
      "METHOD 2\n",
      "azbycxew\n"
     ]
    }
   ],
   "source": [
    "#string mixing\n",
    "\n",
    "print(\"METHOD 1\")\n",
    "s1=\"abce\"\n",
    "s2=\"wxyz\"\n",
    "new=\"\"\n",
    "s3=s2[::-1]\n",
    "if len(s1)==len(s2):\n",
    "    for i in range(len(s1)): \n",
    "        new+=s1[i]+ s3[i]\n",
    "else:\n",
    "    print(\"TAKE 2 WORDS OF EQUAL LENGTH\")\n",
    "print(new)\n",
    "print()\n",
    "\n",
    "\n",
    "print(\"METHOD 2\")\n",
    "s1=\"abce\"\n",
    "s2=\"wxyz\"\n",
    "new=\"\"\n",
    "if len(s1)==len(s2):\n",
    "    for i in range(len(s1)): \n",
    "        new+=s1[i]+s2[len(s2)-i-1]\n",
    "else:\n",
    "    print(\"TAKE 2 WORDS OF EQUAL LENGTH\")\n",
    "print(new)\n",
    "    "
   ]
  },
  {
   "cell_type": "code",
   "execution_count": 83,
   "id": "29ad59f8-9497-432b-b657-6c890a130a1b",
   "metadata": {},
   "outputs": [
    {
     "name": "stdout",
     "output_type": "stream",
     "text": [
      "dhSakshioni\n"
     ]
    }
   ],
   "source": [
    "#adding a 2-second string in the middle of 1 string\n",
    "s1=\"dhoni\"\n",
    "s2=\"Sakshi\"\n",
    "new=\"\"\n",
    "mid=len(s1)//2\n",
    "for i in range(len(s1)):\n",
    "    if i<mid:\n",
    "        new+=s1[i]\n",
    "    elif i==mid:\n",
    "        new+=s2\n",
    "        new+=s1[i]\n",
    "    else:\n",
    "        new+=s1[i]\n",
    "print(new)"
   ]
  },
  {
   "cell_type": "code",
   "execution_count": 100,
   "id": "9d410187-1e7a-4114-8b16-81bec7799206",
   "metadata": {},
   "outputs": [
    {
     "name": "stdout",
     "output_type": "stream",
     "text": [
      "findingaboywithoutgirlfriendinofficeislikesearchingfordinosaurin21stcentury\n",
      "9\n",
      "LOGIC 1\n",
      "findingab oywithout girlfrien dinoffice islikesea rchingfor dinosauri n21stcent ury\n",
      "\n",
      "LOGIC 2\n",
      "findingab\n",
      "oywithout\n",
      "girlfrien\n",
      "dinoffice\n",
      "islikesea\n",
      "rchingfor\n",
      "dinosauri\n",
      "n21stcent\n",
      "ury\n"
     ]
    }
   ],
   "source": [
    "#wap to remove all the space character present in the string and then find the length of str and then find its square root and break the string based on the square root value\n",
    "import math\n",
    "\n",
    "s1 = \"finding a boy without girlfriend in office is like searching for dinosaur in 21st century\"\n",
    "\n",
    "# Removing spaces\n",
    "new = s1.replace(\" \", \"\")\n",
    "print(new)\n",
    "\n",
    "# Finding the square root of the length\n",
    "sq = round(math.sqrt(len(new)))\n",
    "print(sq)\n",
    "\n",
    "# **LOGIC 1**: Insert a space after every 'sq' characters\n",
    "print(\"LOGIC 1\")\n",
    "fresh = \"\"\n",
    "for i in range(len(new)):\n",
    "    if i > 0 and i % sq == 0:\n",
    "        fresh += \" \"\n",
    "    fresh += new[i]\n",
    "\n",
    "print(fresh)\n",
    "print()\n",
    "\n",
    "# **LOGIC 2**: Insert a new line after every 'sq' characters\n",
    "print(\"LOGIC 2\")\n",
    "fresh2 = \"\"\n",
    "count = 0\n",
    "for i in range(len(new)):\n",
    "    fresh2 += new[i]\n",
    "    count += 1\n",
    "    if count == sq:\n",
    "        fresh2 += '\\n'\n",
    "        count = 0  # Reset count\n",
    "\n",
    "print(fresh2)\n"
   ]
  },
  {
   "cell_type": "code",
   "execution_count": 37,
   "id": "1a55c172-a83d-48c6-a72c-240366c3d9f0",
   "metadata": {},
   "outputs": [
    {
     "name": "stdin",
     "output_type": "stream",
     "text": [
      "enter your password Password233\n"
     ]
    },
    {
     "name": "stdout",
     "output_type": "stream",
     "text": [
      "Atleast 1 upper, 1 lower, 1 letter, 1 special char\n"
     ]
    }
   ],
   "source": [
    "#program to validate the given string can be a password or not\n",
    "#check a condition in a such a way that 8<len<13 and should contain atleast 1 lowercase, 1 uppercase and 1 numeric and 1 special\n",
    "\n",
    "passw=input(\"enter your password\")\n",
    "if 8<=len(passw)<=13:\n",
    "    isupper=islower=isnum=isspec=False\n",
    "    \n",
    "    for i in passw:\n",
    "        if 'a'<=i<='z':\n",
    "            isupper=True\n",
    "        elif 'A'<=i<='Z':\n",
    "            islower=True\n",
    "        elif '0'<=i<='9':\n",
    "            isnum=True\n",
    "        else:\n",
    "            isspec=True\n",
    "    if isupper and islower and isnum and isspec:\n",
    "        print(\"Password is correct\")\n",
    "    else:\n",
    "        print('Atleast 1 upper, 1 lower, 1 letter, 1 special char')\n",
    "else:\n",
    "        print(\"Enter you password with length at least 8 and max 13\")"
   ]
  },
  {
   "cell_type": "code",
   "execution_count": 6,
   "id": "76c51ed6-0e95-43f4-b8b9-035f6b659ee2",
   "metadata": {},
   "outputs": [
    {
     "name": "stdout",
     "output_type": "stream",
     "text": [
      "listens and silent are not anagrams\n"
     ]
    }
   ],
   "source": [
    "#program to check whether given strings are  anagrams or not\n",
    "def anagrams(s1,s2):\n",
    "    \n",
    "    def solve(s):\n",
    "        new = list(s)\n",
    "        for i in range(len(new)):\n",
    "            for j in range(i+1,len(new)):\n",
    "                if new[i]>new[j]:\n",
    "                    new[i],new[j]=new[j],new[i]\n",
    "        return \"\".join(new)\n",
    "        \n",
    "    if solve(s1)==solve(s2):\n",
    "        return True\n",
    "    else:\n",
    "        return False\n",
    "\n",
    "s1=\"listen\"\n",
    "s2=\"silent\"\n",
    "if anagrams(s1,s2):\n",
    "    print(f\"{s1} and {s2} are anagrams\")\n",
    "else:\n",
    "    print(f\"{s1} and {s2} are not anagrams\")\n",
    "    \n",
    "\n"
   ]
  },
  {
   "cell_type": "code",
   "execution_count": 22,
   "id": "7a493fe3-8f4c-472b-b223-98ef257fe13a",
   "metadata": {},
   "outputs": [
    {
     "name": "stdout",
     "output_type": "stream",
     "text": [
      "{'v', 'm', 'q', 'z', 'h', 's', 'f', 'n', 'k', 'r', 'g', 'd', 't', 'l', 'w', 'i', 'u', 'e', 'y', 'p', 'b', 'c', 'x', 'j', 'o', 'a'}\n",
      "Length of set: 26\n",
      "pangram\n"
     ]
    }
   ],
   "source": [
    "def panagrams(s1):\n",
    "    new = {char.lower() for char in s1 if char != ' '}  # Ensuring only letters\n",
    "    print(new)\n",
    "    print(\"Length of set:\", len(new)) \n",
    "    if len(new) == 26:\n",
    "        return True\n",
    "    else:\n",
    "        return False\n",
    "\n",
    "s1 = \"Pack My Box With Five Dozens Of Liquor Jugs\"\n",
    "if panagrams(s1):\n",
    "    print(\"pangram\")  # Corrected spelling\n",
    "else:\n",
    "    print(\"not a pangram\")\n"
   ]
  },
  {
   "cell_type": "code",
   "execution_count": 35,
   "id": "897e5ad4-d46d-4ebf-864a-8771c8cd1ff3",
   "metadata": {},
   "outputs": [
    {
     "name": "stdout",
     "output_type": "stream",
     "text": [
      "B --> 4\n",
      "e --> 7\n",
      "t --> 13\n",
      "y --> 1\n",
      "  --> 9\n",
      "o --> 3\n",
      "r --> 4\n",
      "b --> 3\n",
      "u --> 4\n",
      "g --> 1\n",
      "h --> 2\n",
      "s --> 2\n",
      "m --> 1\n",
      "w --> 1\n",
      "a --> 1\n",
      "i --> 1\n"
     ]
    }
   ],
   "source": [
    "#frequecy\n",
    "def frequency(s):\n",
    "    d={}\n",
    "    for i in s:\n",
    "        if i not in d:\n",
    "            d[i] = 1\n",
    "        else:\n",
    "            d[i]+= 1\n",
    "    for i,j in d.items():\n",
    "        print(i,\"-->\",j)\n",
    "        \n",
    "s=\"Betty Botter bought some butter but the Butter was Bitter\"\n",
    "frequency(s)\n",
    "        "
   ]
  },
  {
   "cell_type": "code",
   "execution_count": 46,
   "id": "99f5d8c5-7dcc-4941-abb7-a4e3108bd612",
   "metadata": {},
   "outputs": [
    {
     "name": "stdin",
     "output_type": "stream",
     "text": [
      "enter a value aha\n"
     ]
    },
    {
     "name": "stdout",
     "output_type": "stream",
     "text": [
      "AHA\n",
      "MIRROR IMAGE\n",
      "AHA\n"
     ]
    }
   ],
   "source": [
    "#wap to check the gven string can be a mirrir image string or not\n",
    "value=input(\"enter a value\").upper()\n",
    "print(value)\n",
    "\n",
    "for i in value:\n",
    "    if i not in \"AHIMOTUVWX08\":\n",
    "        print(\"mirror image is not possible\")\n",
    "        break\n",
    "else:\n",
    "    print(\"MIRROR IMAGE\")\n",
    "    print(value[::-1])"
   ]
  },
  {
   "cell_type": "code",
   "execution_count": null,
   "id": "f3654e7a-c2b3-4bc0-ae5a-ed1427aa0c79",
   "metadata": {},
   "outputs": [],
   "source": []
  },
  {
   "cell_type": "code",
   "execution_count": null,
   "id": "5818b085-81f6-4b20-8a3f-9c5089b805af",
   "metadata": {},
   "outputs": [],
   "source": []
  },
  {
   "cell_type": "code",
   "execution_count": null,
   "id": "95bfab68-703d-4608-850f-3d0f79028db8",
   "metadata": {},
   "outputs": [],
   "source": []
  },
  {
   "cell_type": "code",
   "execution_count": null,
   "id": "88e5eeca-983d-45b9-9487-02518dec5a38",
   "metadata": {},
   "outputs": [],
   "source": []
  },
  {
   "cell_type": "code",
   "execution_count": null,
   "id": "05de2f73-7755-4384-af99-c6bdef9f82ca",
   "metadata": {},
   "outputs": [],
   "source": []
  },
  {
   "cell_type": "code",
   "execution_count": null,
   "id": "e4216bec-51c4-46ed-8588-f5ba0e413560",
   "metadata": {},
   "outputs": [],
   "source": []
  },
  {
   "cell_type": "code",
   "execution_count": null,
   "id": "ea41ebd1-fd6a-4f23-a198-5888dee38842",
   "metadata": {},
   "outputs": [],
   "source": []
  },
  {
   "cell_type": "code",
   "execution_count": null,
   "id": "c949c87d-1739-4323-91c7-a2a8ac68ca54",
   "metadata": {},
   "outputs": [],
   "source": []
  },
  {
   "cell_type": "code",
   "execution_count": null,
   "id": "c31f1ea3-1be1-455f-ac7a-4d2f34b98b4a",
   "metadata": {},
   "outputs": [],
   "source": []
  },
  {
   "cell_type": "code",
   "execution_count": null,
   "id": "563ac6e3-b079-48a9-b463-baae671afd72",
   "metadata": {},
   "outputs": [],
   "source": []
  },
  {
   "cell_type": "code",
   "execution_count": null,
   "id": "0fb9597a-2dca-4bca-825c-4c60480b775a",
   "metadata": {},
   "outputs": [],
   "source": []
  },
  {
   "cell_type": "code",
   "execution_count": null,
   "id": "527d331b-d2c9-4e32-a173-5870b6ce1694",
   "metadata": {},
   "outputs": [],
   "source": []
  },
  {
   "cell_type": "code",
   "execution_count": null,
   "id": "e59845c5-a3f6-4324-a3c6-6a431f02c576",
   "metadata": {},
   "outputs": [],
   "source": []
  },
  {
   "cell_type": "code",
   "execution_count": null,
   "id": "ac3760d3-734d-4307-8c80-fdb60367ce63",
   "metadata": {},
   "outputs": [],
   "source": []
  }
 ],
 "metadata": {
  "kernelspec": {
   "display_name": "Python 3 (ipykernel)",
   "language": "python",
   "name": "python3"
  },
  "language_info": {
   "codemirror_mode": {
    "name": "ipython",
    "version": 3
   },
   "file_extension": ".py",
   "mimetype": "text/x-python",
   "name": "python",
   "nbconvert_exporter": "python",
   "pygments_lexer": "ipython3",
   "version": "3.12.7"
  }
 },
 "nbformat": 4,
 "nbformat_minor": 5
}
