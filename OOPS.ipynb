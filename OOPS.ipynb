{
 "cells": [
  {
   "cell_type": "markdown",
   "id": "63bb530d-5c2f-4ccf-9541-1091ca2e4f5f",
   "metadata": {},
   "source": [
    "OOPS\n",
    "\n",
    "opps advanatge :\n",
    "1. to create our datatype\n",
    "2. to ahieve real time scenerio\n",
    "3. to resuability : inheritance\n",
    "\n",
    "\n",
    "#GLOBAL RULES FOR WRITING PYTHON PROGRAMS: PEP 8 NAMING CONVENTION RULE\n"
   ]
  },
  {
   "cell_type": "code",
   "execution_count": 21,
   "id": "435e7cb0-66a8-418b-b0db-63b694389c4e",
   "metadata": {},
   "outputs": [
    {
     "name": "stdout",
     "output_type": "stream",
     "text": [
      "type error\n",
      "3\n"
     ]
    }
   ],
   "source": [
    "a=10\n",
    "try:\n",
    "    print(len(a))  #type error\n",
    "except:\n",
    "    print(\"type error\")\n",
    "\n",
    "l=[1,2,3]\n",
    "print(len(l))   #3"
   ]
  },
  {
   "cell_type": "code",
   "execution_count": null,
   "id": "74ca3d93-ec3d-4b8f-a479-09fe5b88db2a",
   "metadata": {},
   "outputs": [],
   "source": []
  },
  {
   "cell_type": "code",
   "execution_count": 22,
   "id": "0a674b34-b959-499b-ac42-58d33168fcce",
   "metadata": {},
   "outputs": [
    {
     "name": "stdout",
     "output_type": "stream",
     "text": [
      "[1, 2, 3, 10]\n",
      "attribute error\n"
     ]
    }
   ],
   "source": [
    "l=[1,2,3]\n",
    "l.append(10)\n",
    "print(l)   # 1,2,3,10\n",
    "\n",
    "t=(1,2,3)\n",
    "try:\n",
    "    t.append(10)\n",
    "    print(t)\n",
    "except:\n",
    "    print(\"attribute error\")\n",
    "    "
   ]
  },
  {
   "cell_type": "code",
   "execution_count": null,
   "id": "d395d666-b647-443b-bd53-cfa25a916fd6",
   "metadata": {},
   "outputs": [],
   "source": []
  },
  {
   "cell_type": "code",
   "execution_count": 23,
   "id": "8a06587a-ee32-4ca1-a387-f845c4b6570d",
   "metadata": {},
   "outputs": [
    {
     "name": "stdout",
     "output_type": "stream",
     "text": [
      "[1, 2, 2, 3, 5.6, 'True']\n",
      "[1, 2, 2, 3, 5.6, 'True']\n",
      "type error :unsupported operand type(s) for +: 'set' and 'set'\n",
      "Attribute error\n"
     ]
    }
   ],
   "source": [
    "l=[1,2]\n",
    "l1=[2,3,5.6,\"True\"]\n",
    "print(l+l1)\n",
    "l3=l.__add__(l1)\n",
    "print(l3)\n",
    "\n",
    "s={1,2}\n",
    "s1={1,2,3}\n",
    "try:\n",
    "    print(s+s1)\n",
    "    s3=s.__add__(s1)\n",
    "    print(s3)\n",
    "except:\n",
    "    print(\"type error :unsupported operand type(s) for +: 'set' and 'set'\")\n",
    "    print(\"Attribute error\")"
   ]
  },
  {
   "cell_type": "code",
   "execution_count": null,
   "id": "b5d07bc1-648f-46f3-91b4-52bf912f3f4c",
   "metadata": {},
   "outputs": [],
   "source": []
  },
  {
   "cell_type": "code",
   "execution_count": 28,
   "id": "5c053bbe-6b3a-46c9-af77-2f0fb8f6c7c5",
   "metadata": {},
   "outputs": [
    {
     "name": "stdout",
     "output_type": "stream",
     "text": [
      "['__abs__', '__add__', '__and__', '__bool__', '__ceil__', '__class__', '__delattr__', '__dir__', '__divmod__', '__doc__', '__eq__', '__float__', '__floor__', '__floordiv__', '__format__', '__ge__', '__getattribute__', '__getnewargs__', '__getstate__', '__gt__', '__hash__', '__index__', '__init__', '__init_subclass__', '__int__', '__invert__', '__le__', '__lshift__', '__lt__', '__mod__', '__mul__', '__ne__', '__neg__', '__new__', '__or__', '__pos__', '__pow__', '__radd__', '__rand__', '__rdivmod__', '__reduce__', '__reduce_ex__', '__repr__', '__rfloordiv__', '__rlshift__', '__rmod__', '__rmul__', '__ror__', '__round__', '__rpow__', '__rrshift__', '__rshift__', '__rsub__', '__rtruediv__', '__rxor__', '__setattr__', '__sizeof__', '__str__', '__sub__', '__subclasshook__', '__truediv__', '__trunc__', '__xor__', 'as_integer_ratio', 'bit_count', 'bit_length', 'conjugate', 'denominator', 'from_bytes', 'imag', 'is_integer', 'numerator', 'real', 'to_bytes']\n",
      "\n",
      "['__add__', '__class__', '__class_getitem__', '__contains__', '__delattr__', '__delitem__', '__dir__', '__doc__', '__eq__', '__format__', '__ge__', '__getattribute__', '__getitem__', '__getstate__', '__gt__', '__hash__', '__iadd__', '__imul__', '__init__', '__init_subclass__', '__iter__', '__le__', '__len__', '__lt__', '__mul__', '__ne__', '__new__', '__reduce__', '__reduce_ex__', '__repr__', '__reversed__', '__rmul__', '__setattr__', '__setitem__', '__sizeof__', '__str__', '__subclasshook__', 'append', 'clear', 'copy', 'count', 'extend', 'index', 'insert', 'pop', 'remove', 'reverse', 'sort']\n",
      "\n",
      "['__add__', '__class__', '__contains__', '__delattr__', '__dir__', '__doc__', '__eq__', '__format__', '__ge__', '__getattribute__', '__getitem__', '__getnewargs__', '__getstate__', '__gt__', '__hash__', '__init__', '__init_subclass__', '__iter__', '__le__', '__len__', '__lt__', '__mod__', '__mul__', '__ne__', '__new__', '__reduce__', '__reduce_ex__', '__repr__', '__rmod__', '__rmul__', '__setattr__', '__sizeof__', '__str__', '__subclasshook__', 'capitalize', 'casefold', 'center', 'count', 'encode', 'endswith', 'expandtabs', 'find', 'format', 'format_map', 'index', 'isalnum', 'isalpha', 'isascii', 'isdecimal', 'isdigit', 'isidentifier', 'islower', 'isnumeric', 'isprintable', 'isspace', 'istitle', 'isupper', 'join', 'ljust', 'lower', 'lstrip', 'maketrans', 'partition', 'removeprefix', 'removesuffix', 'replace', 'rfind', 'rindex', 'rjust', 'rpartition', 'rsplit', 'rstrip', 'split', 'splitlines', 'startswith', 'strip', 'swapcase', 'title', 'translate', 'upper', 'zfill']\n",
      "\n",
      "['__and__', '__class__', '__class_getitem__', '__contains__', '__delattr__', '__dir__', '__doc__', '__eq__', '__format__', '__ge__', '__getattribute__', '__getstate__', '__gt__', '__hash__', '__iand__', '__init__', '__init_subclass__', '__ior__', '__isub__', '__iter__', '__ixor__', '__le__', '__len__', '__lt__', '__ne__', '__new__', '__or__', '__rand__', '__reduce__', '__reduce_ex__', '__repr__', '__ror__', '__rsub__', '__rxor__', '__setattr__', '__sizeof__', '__str__', '__sub__', '__subclasshook__', '__xor__', 'add', 'clear', 'copy', 'difference', 'difference_update', 'discard', 'intersection', 'intersection_update', 'isdisjoint', 'issubset', 'issuperset', 'pop', 'remove', 'symmetric_difference', 'symmetric_difference_update', 'union', 'update']\n"
     ]
    }
   ],
   "source": [
    "a=10\n",
    "print(dir(a))\n",
    "print()\n",
    "l=[]\n",
    "print(dir(l))\n",
    "print()\n",
    "s=''\n",
    "print(dir(s))\n",
    "print()\n",
    "print(dir(set))"
   ]
  },
  {
   "cell_type": "code",
   "execution_count": null,
   "id": "5f3fc61f-51c1-4e2b-98dc-7ebe0575e824",
   "metadata": {},
   "outputs": [],
   "source": []
  },
  {
   "cell_type": "code",
   "execution_count": 25,
   "id": "323a1fb7-84ee-46cc-9967-4c2467024db4",
   "metadata": {},
   "outputs": [
    {
     "name": "stdout",
     "output_type": "stream",
     "text": [
      "72\n",
      "56\n"
     ]
    }
   ],
   "source": [
    "#interview question \n",
    "l1=[1,2,3,4]\n",
    "t1=(1,2,3,4)\n",
    "print(l1.__sizeof__())\n",
    "print(t1.__sizeof__())   #tuple stores less memory and it is faster "
   ]
  },
  {
   "cell_type": "code",
   "execution_count": null,
   "id": "8610d50c-3177-42ae-bb4c-d476281d1bbf",
   "metadata": {},
   "outputs": [],
   "source": []
  },
  {
   "cell_type": "raw",
   "id": "5565025c-7412-48a8-841a-1f76280748ff",
   "metadata": {},
   "source": [
    "*CLASS*\n",
    "\n",
    "class is design/blueprint of an object\n",
    "\n",
    "syntax: class classname:\n",
    "            #attributes  \n",
    "        objectname=classname\n",
    "\n",
    "\n",
    "ATTRIBUTES AND ITS CLASSIFICATIONS\n",
    "1. variables (state)\n",
    "    a. class variable\n",
    "    b. instancevariable\n",
    "2. methods (behaviour)\n",
    "    a.class method\n",
    "    b.static method\n",
    "    c.instance method\n",
    "        c1.normal instance method\n",
    "        c2.dendur instance method\n",
    "\n",
    "constructor in python:__init__ : used to create instance variable"
   ]
  },
  {
   "cell_type": "code",
   "execution_count": 30,
   "id": "93dfd9c9-1741-4ad0-b4d5-628aa7ffbf17",
   "metadata": {},
   "outputs": [
    {
     "name": "stdout",
     "output_type": "stream",
     "text": [
      "['__class__', '__delattr__', '__dict__', '__dir__', '__doc__', '__eq__', '__format__', '__ge__', '__getattribute__', '__getstate__', '__gt__', '__hash__', '__init__', '__init_subclass__', '__le__', '__lt__', '__module__', '__ne__', '__new__', '__reduce__', '__reduce_ex__', '__repr__', '__setattr__', '__sizeof__', '__str__', '__subclasshook__', '__weakref__']\n"
     ]
    }
   ],
   "source": [
    "class EMPTY:\n",
    "    pass\n",
    "print(dir(EMPTY))    #27 dendur methods automatically intialize   + 2 new dendur added  =29 (fistlineno, static_attributes)\n"
   ]
  },
  {
   "cell_type": "code",
   "execution_count": null,
   "id": "67b36e2b-47f0-46f1-9e55-0ad338dd50d2",
   "metadata": {},
   "outputs": [],
   "source": []
  },
  {
   "cell_type": "raw",
   "id": "75014a1e-0547-432a-b42c-ee75c4bfa5da",
   "metadata": {},
   "source": [
    "*OBJECT*\n",
    "\n",
    "instance of an class which has its own state and behaviour \n",
    "\n",
    "SYNTAX:\n",
    "    object_name=class_name()\n",
    "\n",
    "self is the object that is working "
   ]
  },
  {
   "cell_type": "code",
   "execution_count": 37,
   "id": "d65aa94a-fec7-4add-801d-725d2355548c",
   "metadata": {},
   "outputs": [
    {
     "name": "stdout",
     "output_type": "stream",
     "text": [
      "['__class__', '__delattr__', '__dict__', '__dir__', '__doc__', '__eq__', '__format__', '__ge__', '__getattribute__', '__getstate__', '__gt__', '__hash__', '__init__', '__init_subclass__', '__le__', '__lt__', '__module__', '__ne__', '__new__', '__reduce__', '__reduce_ex__', '__repr__', '__setattr__', '__sizeof__', '__str__', '__subclasshook__', '__weakref__', 'a', 'method', 'name']\n"
     ]
    }
   ],
   "source": [
    "#example 1\n",
    "class EXAMPLE:\n",
    "    a=100 #class variable\n",
    "    def __init__(self,name):        #to create instance variable(name) we need __init__(constructor method : to create instance variable)\n",
    "        self.name=name              #name is local variable and self.name is instance variable\n",
    "        \n",
    "    def method(self):               #method is a instance method\n",
    "        print(\"I'm a method \")\n",
    "\n",
    "#print(dir(EXAMPLE))  : we dont get instance variable \n",
    "\n",
    "#creating an objecting for class EXAMPLE\n",
    "obj=EXAMPLE('aa')\n",
    "\n",
    "print(dir(obj))   #we get all the state and behaviour"
   ]
  },
  {
   "cell_type": "code",
   "execution_count": 7,
   "id": "437faedc-4295-4a57-a2c5-d5817905002b",
   "metadata": {},
   "outputs": [
    {
     "name": "stdout",
     "output_type": "stream",
     "text": [
      "1. accessing class variable using class name and object reference\n",
      "Directly accesing the value-->Name error:  name 'a1' is not defined\n",
      "100\n",
      "100\n",
      "\n",
      "2. accesing instance variable using class name and object reference\n",
      "Directly accesing the value--> AttributeError: type object 'EXAMPLE' has no attribute 'name' \n",
      "Pass self name\n",
      "aa\n",
      "\n",
      "3.accesing instance method using class name and object reference\n",
      "Directly accesing the value--> self value is required\n",
      "I'm a method \n",
      "None\n",
      "\n",
      "\n",
      "simple example to understand above code\n",
      "[4, 5, 6, 8]\n",
      "[4, 5, 6, 8, 9]\n"
     ]
    }
   ],
   "source": [
    "#example 2\n",
    "class EXAMPLE:\n",
    "    a1=100 #class variable\n",
    "    def __init__(self,name):       \n",
    "        self.name=name             \n",
    "        \n",
    "    def method(self):              \n",
    "        print(\"I'm a method \")\n",
    " \n",
    "obj=EXAMPLE('aa')\n",
    "obj2=EXAMPLE(1)\n",
    "\n",
    "\n",
    "#accessing class variable using class name and object reference\n",
    "print(\"1. accessing class variable using class name and object reference\")\n",
    "try:\n",
    "    print(\"directly accesing the value\",a1)\n",
    "except:\n",
    "    print(\"Directly accesing the value-->Name error:  name 'a1' is not defined\")\n",
    "print(EXAMPLE.a1)\n",
    "print(obj.a1)\n",
    "print()\n",
    "\n",
    "#accesing instance variable using class name and object reference\n",
    "print(\"2. accesing instance variable using class name and object reference\")\n",
    "try:\n",
    "    print(EXAMPLE.name)\n",
    "except:\n",
    "    print(\"Directly accesing the value--> AttributeError: type object 'EXAMPLE' has no attribute 'name' \")\n",
    "    print(\"Pass self name\")\n",
    "print(obj.name)\n",
    "print()\n",
    "\n",
    "#accesing instance method using class name and object reference\n",
    "print(\"3.accesing instance method using class name and object reference\")\n",
    "try:\n",
    "    print(EXAMPLE.method())\n",
    "except:\n",
    "    print(\"Directly accesing the value--> self value is required\")\n",
    "\n",
    "try:\n",
    "    print(obj2.method()) #here self is the object so no error occurs\n",
    "except:\n",
    "    print(\"self is the object so  no error occurs\")\n",
    "print()\n",
    "print()\n",
    "\n",
    "print(\"simple example to understand above code\")\n",
    "l=[1,2,3]\n",
    "l1=[4,5,6]\n",
    "#whenever instance methods are accessed using the class name we should initialize the self and when we are accessing using object no need of self \n",
    "list.append(l1,8)   #using classname : we use l1(self: which object should work) here\n",
    "print(l1)\n",
    "l1.append(9)        #using objectname: no need  of self\n",
    "print(l1)\n",
    "\n"
   ]
  },
  {
   "cell_type": "code",
   "execution_count": 7,
   "id": "a946f71c-25e4-4506-9c44-a5496ca528a2",
   "metadata": {},
   "outputs": [
    {
     "name": "stdout",
     "output_type": "stream",
     "text": [
      "1. accessing class variable using class name and object reference\n",
      "Directly accesing the value-->Name error:  name 'a1' is not defined\n",
      "100\n",
      "100\n",
      "\n",
      "2. accesing instance variable using class name and object reference\n",
      "Directly accesing the value--> AttributeError: type object 'EXAMPLE' has no attribute 'name' \n",
      "Pass self name\n",
      "aa\n",
      "\n",
      "3.accesing instance method using class name and object reference\n",
      "Directly accesing the value--> self value is required\n",
      "I'm a method \n",
      "None\n",
      "\n",
      "\n",
      "simple example to understand above code\n",
      "[4, 5, 6, 8]\n",
      "[4, 5, 6, 8, 9]\n"
     ]
    }
   ],
   "source": [
    "#example 2\n",
    "class EXAMPLE:\n",
    "    a1=100 #class variable\n",
    "    def __init__(self,name):       \n",
    "        self.name=name             \n",
    "        \n",
    "    def method(self):              \n",
    "        print(\"I'm a method \")\n",
    " \n",
    "obj=EXAMPLE('aa')\n",
    "obj2=EXAMPLE(1)\n",
    "\n",
    "\n",
    "#accessing class variable using class name and object reference\n",
    "print(\"1. accessing class variable using class name and object reference\")\n",
    "try:\n",
    "    print(\"directly accesing the value\",a1)\n",
    "except:\n",
    "    print(\"Directly accesing the value-->Name error:  name 'a1' is not defined\")\n",
    "print(EXAMPLE.a1)\n",
    "print(obj.a1)\n",
    "print()\n",
    "\n",
    "#accesing instance variable using class name and object reference\n",
    "print(\"2. accesing instance variable using class name and object reference\")\n",
    "try:\n",
    "    print(EXAMPLE.name)\n",
    "except:\n",
    "    print(\"Directly accesing the value--> AttributeError: type object 'EXAMPLE' has no attribute 'name' \")\n",
    "    print(\"Pass self name\")\n",
    "print(obj.name)\n",
    "print()\n",
    "\n",
    "#accesing instance method using class name and object reference\n",
    "print(\"3.accesing instance method using class name and object reference\")\n",
    "try:\n",
    "    print(EXAMPLE.method())\n",
    "except:\n",
    "    print(\"Directly accesing the value--> self value is required\")\n",
    "\n",
    "try:\n",
    "    print(obj2.method()) #here self is the object so no error occurs\n",
    "except:\n",
    "    print(\"self is the object so  no error occurs\")\n",
    "print()\n",
    "print()\n",
    "\n",
    "print(\"simple example to understand above code\")\n",
    "l=[1,2,3]\n",
    "l1=[4,5,6]\n",
    "#whenever instance methods are accessed using the class name we should initialize the self and when we are accessing using object no need of self \n",
    "list.append(l1,8)   #using classname : we use l1(self: which object should work) here\n",
    "print(l1)\n",
    "l1.append(9)        #using objectname: no need  of self\n",
    "print(l1)\n",
    "\n"
   ]
  },
  {
   "cell_type": "code",
   "execution_count": null,
   "id": "0f8a4f81-77c3-4e9f-911b-77ed1f21e97d",
   "metadata": {},
   "outputs": [],
   "source": []
  },
  {
   "cell_type": "raw",
   "id": "3b52d807-32f1-4c4d-9418-ba4d4ccd8083",
   "metadata": {},
   "source": [
    "**OOPS HAS 4 PILLARS**\n",
    "1. ENCAPSULATION:binding the attributes in a class\n",
    "2. INHERITANCE\n",
    "3. POLYMORPHISM\n",
    "4. ABSTRACTION"
   ]
  },
  {
   "cell_type": "code",
   "execution_count": null,
   "id": "9c0437cf-09a6-4631-b815-937caae4d05d",
   "metadata": {},
   "outputs": [],
   "source": []
  },
  {
   "cell_type": "code",
   "execution_count": 23,
   "id": "8e533f7f-c7c6-4fbb-8477-180970b7645a",
   "metadata": {},
   "outputs": [
    {
     "name": "stdout",
     "output_type": "stream",
     "text": [
      "PYSpider\n",
      "<-----------YOUR DETAILS----------->\n",
      "NAME: Deeksha\n",
      "AGE: 21\n",
      "GENDER: Female\n",
      "PHONE NO: 9019179542\n",
      "QUALIFICATION:BCA\n",
      "<-----------YOUR DETAILS----------->\n",
      "NAME: Vijay\n",
      "AGE: 27\n",
      "GENDER: Male\n",
      "PHONE NO: 9353049187\n",
      "QUALIFICATION:MTech\n"
     ]
    }
   ],
   "source": [
    "class STUDENT:\n",
    "    insitute=\"PYSpider\"\n",
    "    location=\"Basvangudi\"\n",
    "    def __init__(self,name,age,gender,phno,qualification):\n",
    "        self.name=name\n",
    "        self.age=age\n",
    "        self.gender=gender\n",
    "        self.phno=phno\n",
    "        self.qualification=qualification\n",
    "        \n",
    "    def details(self):\n",
    "        print(\"<-----------YOUR DETAILS----------->\")\n",
    "        print(f\"NAME: {self.name}\")\n",
    "        print(f\"AGE: {self.age}\")\n",
    "        print(f\"GENDER: {self.gender}\")\n",
    "        print(f\"PHONE NO: {self.phno}\")\n",
    "        print(f\"QUALIFICATION:{self.qualification}\")\n",
    "\n",
    "#creating objects for the class STUDENT\n",
    "s1=STUDENT(\"Deeksha\",\"21\",\"Female\",\"9019179542\",\"BCA\")\n",
    "s2=STUDENT(\"Vijay\",\"27\",\"Male\",\"9353049187\",\"MTech\")\n",
    "\n",
    "#printing the details\n",
    "# print(STUDENT.insitute)\n",
    "s1.details()\n",
    "# STUDENT.details(s1)\n",
    "s2.details()"
   ]
  },
  {
   "cell_type": "code",
   "execution_count": 17,
   "id": "1c730ff5-69aa-4a1d-bf20-b0553172cba6",
   "metadata": {},
   "outputs": [],
   "source": [
    "#create a circle, 2 methods: area, perimeter\n"
   ]
  },
  {
   "cell_type": "code",
   "execution_count": 35,
   "id": "1fc390fb-0367-457c-a7e9-867551844e5d",
   "metadata": {},
   "outputs": [
    {
     "name": "stdout",
     "output_type": "stream",
     "text": [
      "*********************************\n",
      "TOYOTA\n",
      "COLOR : Red\n",
      "SIZE : 10 Feet\n",
      "FUEL_TYPE : Diseal\n",
      "SEAT_NO : 7\n",
      "TOYOTA's engine turned on\n",
      "TOYOTA's handbreak is applied\n",
      "TOYOTA's music system is playing\n"
     ]
    }
   ],
   "source": [
    "#car: 1 brand: model, car properties and having method: start,hand break, music \n",
    "class CAR:\n",
    "    car_name=\"TOYOTA\"\n",
    "    def __init__(self,color,size,fuel_type,seat_no):\n",
    "        self.color=color\n",
    "        self.size=size\n",
    "        self.fuel_type=fuel_type\n",
    "        self.seat_no=seat_no\n",
    "        \n",
    "    def car_details(self):\n",
    "        print(f\"COLOR : {self.color}\")\n",
    "        print(f\"SIZE : {self.size}\")\n",
    "        print(f\"FUEL_TYPE : {self.fuel_type}\")\n",
    "        print(f\"SEAT_NO : {self.seat_no}\")\n",
    "\n",
    "    def start(self):\n",
    "        print(f\"{self.car_name}'s engine turned on\" )\n",
    "    def handbreak(self):\n",
    "        print(f\"{self.car_name}'s handbreak is applied\" )\n",
    "    def music(self):\n",
    "        print(f\"{self.car_name}'s music system is playing\" )\n",
    "\n",
    "c1=CAR(\"Red\",\"10 Feet\",\"Diseal\",\"7\")\n",
    "print(\"*********************************\")\n",
    "print(CAR.car_name)\n",
    "c1.car_details()\n",
    "c1.start()\n",
    "c1.handbreak()\n",
    "c1.music()"
   ]
  },
  {
   "cell_type": "code",
   "execution_count": null,
   "id": "a982ed62-8b4e-4f22-9253-313597ba3349",
   "metadata": {},
   "outputs": [],
   "source": []
  },
  {
   "cell_type": "raw",
   "id": "e9c52d94-b547-418a-80c6-e057332126c8",
   "metadata": {},
   "source": [
    "PACKAGAE AND MODULES\n",
    "package:it is a folder which contains modules and sub-packages \n",
    "modules:python file(.py) which has classes,objects and resable functions\n",
    "\n",
    "2 types of import: relative and absolute"
   ]
  },
  {
   "cell_type": "raw",
   "id": "b9a06788-7cca-4a4b-944a-b4494505e512",
   "metadata": {},
   "source": [
    "ACCESS SPECIFIER\n",
    "\n",
    "    attributes can be used witin the class / outside the class but within the module / outside the module within the package\n",
    "\n",
    "1.PUBLIC : no underscore before attribute --> val\n",
    "    Accesssed : 1. within the class\n",
    "                2. Outside the class within the module\n",
    "                3. outside the module in another  module within the package\n",
    "                4. outside the package in another pacckage but within main\n",
    "\n",
    "2.PROTECTED : single underscore before attribute --> _val\n",
    "3.PRIVATE : 2 underscore before the attribute --> __val"
   ]
  },
  {
   "cell_type": "code",
   "execution_count": 38,
   "id": "d0c0024d-b041-4970-98d3-6557c320b3c3",
   "metadata": {},
   "outputs": [
    {
     "name": "stdout",
     "output_type": "stream",
     "text": [
      "I'm a method\n",
      "value of a 100\n",
      "value of p 1\n",
      "accesssing outside the class 100\n",
      "accesssing outside the class 1\n"
     ]
    }
   ],
   "source": [
    "#PUBLIC    --> create this as p1.py as package\n",
    "class PUBLICC():\n",
    "    a=100\n",
    "    def __init__(self,p):\n",
    "        self.p=p\n",
    "    def method(self):\n",
    "        print(\"I'm a method\")\n",
    "        print(\"value of a\",PUBLICC.a) #accessing inside the class\n",
    "        print(\"value of p\",self.p)   #accessing public instance variable inside the class\n",
    "obj=PUBLICC(1)      \n",
    "obj.method()\n",
    "\n",
    "#accesssing outside the class\n",
    "print(\"accesssing outside the class\",PUBLICC.a)   \n",
    "print(\"accesssing outside the class\",obj.p)\n",
    "\n",
    "\n",
    "#create p2.py --> another package\n",
    "\n",
    "# obj=PUBLICC(10)\n",
    "# print(obj.a)\n",
    "# print(obj.p)"
   ]
  },
  {
   "cell_type": "code",
   "execution_count": null,
   "id": "bf8acd52-f563-49d3-ae31-6c38400ace5b",
   "metadata": {},
   "outputs": [],
   "source": []
  },
  {
   "cell_type": "code",
   "execution_count": null,
   "id": "61e0bc15-97bd-49ff-ac75-02f7501064ac",
   "metadata": {},
   "outputs": [],
   "source": []
  },
  {
   "cell_type": "code",
   "execution_count": null,
   "id": "f0d84427-2130-46e1-9b90-3c4800cfbb41",
   "metadata": {},
   "outputs": [],
   "source": []
  },
  {
   "cell_type": "code",
   "execution_count": null,
   "id": "3b416c31-ff6d-4ff7-9a2f-6a786655ed7a",
   "metadata": {},
   "outputs": [],
   "source": []
  },
  {
   "cell_type": "code",
   "execution_count": null,
   "id": "51b055c1-1d5f-4d08-85aa-44696f2890f7",
   "metadata": {},
   "outputs": [],
   "source": []
  },
  {
   "cell_type": "raw",
   "id": "9871d40f-dfa7-4169-a7c4-365bf2fbbef5",
   "metadata": {},
   "source": [
    "PYTHON BEAN CLASS --> STANDARD ENCAPSULATION\n",
    "1. All instance variable are created as private\n",
    "2. It should have getter  and setter methods it should be public\n",
    "3. All private variables must be have getter and setter method\n",
    " \n",
    "Getter: method used to return the value of private instance variable\n",
    "Setter: method used to change the private instance variable of an object\n",
    "\n",
    "\n",
    "\n",
    "If the instance variable are public , value can be changed. If it is private we can not access outside the class\n"
   ]
  },
  {
   "cell_type": "code",
   "execution_count": 32,
   "id": "07fa9e99-d893-4d2b-abd9-59f731890f99",
   "metadata": {},
   "outputs": [
    {
     "name": "stdout",
     "output_type": "stream",
     "text": [
      "None\n",
      "78\n",
      "val must be btw 1 and 100\n"
     ]
    }
   ],
   "source": [
    "class BEAN:\n",
    "    def __init__(self):\n",
    "        self.__p=None\n",
    "        self.__q=None   #instnace variables are private\n",
    "        \n",
    "    def get_p(self,passcode):\n",
    "        password=123\n",
    "        if passcode==password:\n",
    "            return self.__p\n",
    "        else:\n",
    "            return \"Invalid password\"\n",
    "            \n",
    "    def set_p(self,passcode,val):\n",
    "        password=123\n",
    "        if passcode==password:\n",
    "            if val>=1 and val<=100:\n",
    "                self.__p=val\n",
    "            else:\n",
    "                print( \"val must be btw 1 and 100\")\n",
    "        else:\n",
    "            return \"Invalid password\"\n",
    "\n",
    "    def get_q(self):\n",
    "        return self.__q\n",
    "    def set_q(self,val):\n",
    "        self.__q=val\n",
    "        \n",
    "    \n",
    "obj=BEAN()\n",
    "print(obj.get_p(123))\n",
    "obj.set_p(123,78)\n",
    "print(obj.get_p(123))\n",
    "obj.set_p(123,2000)\n"
   ]
  },
  {
   "cell_type": "code",
   "execution_count": 31,
   "id": "d5427812-c76e-4a47-b053-2b6f620631ab",
   "metadata": {},
   "outputs": [
    {
     "name": "stdout",
     "output_type": "stream",
     "text": [
      "None\n",
      "Shahid\n",
      "None\n",
      "18\n"
     ]
    }
   ],
   "source": [
    "class STUDENT:\n",
    "    def __init__(self):\n",
    "        self.__name = None\n",
    "        self.__age = None\n",
    "\n",
    "    # Getter for name\n",
    "    def name(self):\n",
    "        return self.__name\n",
    "\n",
    "    # Setter for name\n",
    "    def name_setter(self, val):\n",
    "        if type(val) == str:\n",
    "            self.__name = val\n",
    "        else:\n",
    "            print(\"Name must be a string\")\n",
    "\n",
    "    # Getter for age using @property\n",
    "    @property\n",
    "    def age(self):\n",
    "        return self.__age\n",
    "\n",
    "    # Setter for age using @property.setter\n",
    "    @age.setter\n",
    "    def age(self, val):\n",
    "        if type(val) == int and val > 0:\n",
    "            self.__age = val\n",
    "        else:\n",
    "            raise valueError(\"print age must be integer and more than 0\")\n",
    "           \n",
    "\n",
    "# Testing the class and without using property\n",
    "s1 = STUDENT()\n",
    "print(s1.name())\n",
    "s1.name_setter(\"Shahid\")\n",
    "print(s1.name())\n",
    "\n",
    "# By using decorator\n",
    "s2 = STUDENT()\n",
    "print(s2.age)  # Should print None (default value)\n",
    "s2.age = 19    # Correctly uses the setter\n",
    "print(s2.age)  # Should print 19\n"
   ]
  },
  {
   "cell_type": "raw",
   "id": "7cfe2001-0f0d-4965-9009-ea1a8f1970ba",
   "metadata": {},
   "source": [
    "INHERITANCE\n",
    "    A class acquiring from another class\n",
    "--> class whose property is acquired is called: super class,base class,parent class\n",
    "--> class which acquiring property from other : sub class, child class, dervied class\n",
    "\n",
    "5 types\n",
    "1. Single level inheritance\n",
    "2. Multi level inheritance\n",
    "3. Multiple inheritance\n",
    "4. Hieracial inheritance \n",
    "5.Hybrid inheritance\n",
    "\n",
    "\n",
    "SINGLE LEVEL\n",
    "    Contain 1 parent class and * 1 child class "
   ]
  },
  {
   "cell_type": "code",
   "execution_count": 48,
   "id": "da186c5c-d74b-4f27-ba58-2accdbc2ba9b",
   "metadata": {},
   "outputs": [
    {
     "name": "stdout",
     "output_type": "stream",
     "text": [
      "['_ONE__c', '__class__', '__delattr__', '__dict__', '__dir__', '__doc__', '__eq__', '__format__', '__ge__', '__getattribute__', '__getstate__', '__gt__', '__hash__', '__init__', '__init_subclass__', '__le__', '__lt__', '__module__', '__ne__', '__new__', '__reduce__', '__reduce_ex__', '__repr__', '__setattr__', '__sizeof__', '__str__', '__subclasshook__', '__weakref__', 'a', 'b', 'method1', 'method2', 'p', 'q']\n"
     ]
    }
   ],
   "source": [
    "#SINGLE INHERITANCE\n",
    "class ONE:\n",
    "    a=10\n",
    "    __c=20\n",
    "    def __init__(self,p):\n",
    "        self.p=p\n",
    "    def method1(self):\n",
    "        print(\"IM METHOD 1\")\n",
    "#inheritance is done classname(parentclass_name)\n",
    "class TWO(ONE):\n",
    "    b=200\n",
    "    def __init__(self,p,q):\n",
    "        super().__init__(p)\n",
    "        self.q=q\n",
    "    def method2(self):\n",
    "        print(\"IM METHOD 2\")\n",
    "        \n",
    "obj1=TWO(10,20)\n",
    "print(dir(obj1))    #__c is private variable, we cant see in the directory\n",
    "\n"
   ]
  },
  {
   "cell_type": "raw",
   "id": "176fca6f-ff7f-4e97-88fb-acff513dcc26",
   "metadata": {},
   "source": [
    "CONSTRUCTOR CHAINING\n",
    "    calling parent class constructor inside child class constructor to pass the values of instance variable defined in parent class\n",
    "\n",
    "To achieve we have 2 methods\n",
    "1.using super()   --> if we have instance variable or nothing\n",
    "2. using class name  --> if we have instance variable then self.instance_variable\n",
    "\n"
   ]
  },
  {
   "cell_type": "code",
   "execution_count": 1,
   "id": "41bc10c6-028b-41ad-b006-2e6b3789fc23",
   "metadata": {},
   "outputs": [
    {
     "ename": "SyntaxError",
     "evalue": "incomplete input (1694305983.py, line 3)",
     "output_type": "error",
     "traceback": [
      "\u001b[1;36m  Cell \u001b[1;32mIn[1], line 3\u001b[1;36m\u001b[0m\n\u001b[1;33m    \u001b[0m\n\u001b[1;37m    ^\u001b[0m\n\u001b[1;31mSyntaxError\u001b[0m\u001b[1;31m:\u001b[0m incomplete input\n"
     ]
    }
   ],
   "source": [
    "#example for constructor chaining\n",
    "class whatsapp1:\n",
    "    pass"
   ]
  },
  {
   "cell_type": "code",
   "execution_count": null,
   "id": "2d2fa069-913a-46bb-8bfc-31d0a893c564",
   "metadata": {},
   "outputs": [],
   "source": []
  },
  {
   "cell_type": "code",
   "execution_count": null,
   "id": "a3910a91",
   "metadata": {},
   "outputs": [],
   "source": []
  },
  {
   "cell_type": "code",
   "execution_count": null,
   "id": "3e997da8",
   "metadata": {},
   "outputs": [],
   "source": []
  },
  {
   "cell_type": "code",
   "execution_count": null,
   "id": "620ae9a5",
   "metadata": {},
   "outputs": [],
   "source": []
  },
  {
   "cell_type": "code",
   "execution_count": null,
   "id": "c2474672",
   "metadata": {},
   "outputs": [],
   "source": []
  }
 ],
 "metadata": {
  "kernelspec": {
   "display_name": "Python 3 (ipykernel)",
   "language": "python",
   "name": "python3"
  },
  "language_info": {
   "codemirror_mode": {
    "name": "ipython",
    "version": 3
   },
   "file_extension": ".py",
   "mimetype": "text/x-python",
   "name": "python",
   "nbconvert_exporter": "python",
   "pygments_lexer": "ipython3",
   "version": "3.12.7"
  }
 },
 "nbformat": 4,
 "nbformat_minor": 5
}
