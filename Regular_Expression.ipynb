{
 "cells": [
  {
   "cell_type": "raw",
   "id": "5b7b38ce-f4ab-40ab-bdb9-369fde69e41e",
   "metadata": {},
   "source": [
    "REGULAR EXPRESSION: \n",
    "> It is modulein python used to check the given pattern is present in the given location or not\n",
    "> To search for a pattern we need use \"search()\" method which belongs to \"re\" module\n",
    "variable.search()  -->doesnt look for duplicates\n",
    "SYNTAX:\n",
    "        import re\n",
    "        re.search(par1,par2)\n",
    "\n",
    "par1: pattern to be searched\n",
    "par2:where to serach\n",
    "\n",
    "> If the given pattern is present , search() return a \"span id\" (eg:<re.Match object; span=(12, 18), match='Danger'>) or it returns \"None\"\n",
    "> The pattern can find anywhere in the given location either at the beggining or at middle or at the last \n",
    "\n",
    "SPAN ID (variable.span()) \n",
    "    It is a method belongs to re module which gives the starting and ending value of a pattern from where to where the given present in the given location\n",
    "\n"
   ]
  },
  {
   "cell_type": "markdown",
   "id": "436f68a8",
   "metadata": {},
   "source": []
  },
  {
   "cell_type": "code",
   "execution_count": 17,
   "id": "02918e6b-d729-4cee-9d02-c1f0529f3bb8",
   "metadata": {},
   "outputs": [
    {
     "name": "stdout",
     "output_type": "stream",
     "text": [
      "<re.Match object; span=(12, 18), match='Danger'>\n",
      "found (12, 18)\n"
     ]
    }
   ],
   "source": [
    "#example 1  (USING SEARCH AND SPAN)\n",
    "import re\n",
    "data=\"I am not in Danger, im the Danger\"\n",
    "search=re.search(\"Danger\",data)\n",
    "print(search)\n",
    "if search!=None:\n",
    "    print(\"found\",search.span())\n",
    "else:\n",
    "    print(\"not found\")      "
   ]
  },
  {
   "cell_type": "code",
   "execution_count": 23,
   "id": "df8845f9-1ae5-4385-b31d-68bf6187b15b",
   "metadata": {},
   "outputs": [
    {
     "name": "stdout",
     "output_type": "stream",
     "text": [
      "Seraching for pattern --> danger\n",
      "Pattern found\n",
      "SPAN ID is  <re.Match object; span=(12, 18), match='danger'>\n",
      "Seraching for pattern --> now\n",
      "Pattern found\n",
      "SPAN ID is  <re.Match object; span=(34, 37), match='now'>\n",
      "Seraching for pattern --> hello\n",
      "Pattern not found\n",
      "SPAN ID is  None\n"
     ]
    }
   ],
   "source": [
    "#example 2 (USING LIST )\n",
    "import re\n",
    "data=\"I am not in danger, im the danger,now say my name\"\n",
    "pattern=[\"danger\",\"now\",\"hello\"]\n",
    "for pat in pattern:\n",
    "    print(\"Seraching for pattern -->\",pat)\n",
    "    if re.search(pat,data):\n",
    "        print(\"Pattern found\")\n",
    "        print(\"SPAN ID is \",re.search(pat,data))\n",
    "    else:\n",
    "        print(\"Pattern not found\")\n",
    "        print(\"SPAN ID is \",re.search(pat,data))"
   ]
  },
  {
   "cell_type": "code",
   "execution_count": null,
   "id": "bba4ec5c-4d6f-41c6-823a-0fbb02453da2",
   "metadata": {},
   "outputs": [],
   "source": []
  },
  {
   "cell_type": "raw",
   "id": "7feda9b0-242f-4237-b5aa-2eb1f2cbb8b1",
   "metadata": {},
   "source": [
    "re.findall()\n",
    "    >This method is used to find the given pattern in a given location. It find total number of times the given pattern the given pattern collects everything      and stores in the form of list\n",
    "    >This method looks for duplicate occurance also\n"
   ]
  },
  {
   "cell_type": "code",
   "execution_count": 27,
   "id": "bad774f1-7484-4df0-9242-01d4bc6a530a",
   "metadata": {},
   "outputs": [
    {
     "name": "stdout",
     "output_type": "stream",
     "text": [
      "['trouble', 'trouble', 'trouble', 'trouble', 'trouble']\n"
     ]
    }
   ],
   "source": [
    "#example 1 (USING FINDALL())\n",
    "import re\n",
    "data=\"Dont trouble the trouble,if your trouble, the Trouble toubles you. Im not the trouble Im the truth\"\n",
    "datas=data.lower()\n",
    "find=re.findall(\"trouble\",datas)\n",
    "print(find)     #here toubles in not consider even it has trouble in it also"
   ]
  },
  {
   "cell_type": "code",
   "execution_count": null,
   "id": "d9e7b817-3370-4391-b274-ae26ff57c438",
   "metadata": {},
   "outputs": [],
   "source": []
  },
  {
   "cell_type": "code",
   "execution_count": 46,
   "id": "b64e02d4-af56-4036-99c5-9948bf7bfbb5",
   "metadata": {},
   "outputs": [
    {
     "name": "stdout",
     "output_type": "stream",
     "text": [
      "Example 1\n",
      "pattern found Enviroment\n",
      "\n",
      "Example 2\n",
      "pattern not found\n",
      "\n",
      "Example 3\n",
      "pattern found EnviRoment\n",
      "\n",
      "Example 4\n",
      "pattern not found\n"
     ]
    }
   ],
   "source": [
    "import re\n",
    "data=\"Enviroment\"\n",
    "res=re.search(\"Envi[a-z]\",data)\n",
    "print(\"Example 1\")\n",
    "if res!=None:\n",
    "    print(\"pattern found\",data)\n",
    "else:\n",
    "    print(\"pattern not found\")\n",
    "print()\n",
    "#[a-z]:it will check for the single lower case character from lower case a-z\n",
    "\n",
    "\n",
    "import re\n",
    "datas=\"Enviroment\"\n",
    "print(\"Example 2\")\n",
    "res=re.search(\"Env[a-f]\",datas)\n",
    "if res!=None:\n",
    "    print(\"pattern found\",datas)\n",
    "else:\n",
    "    print(\"pattern not found\")\n",
    "print()\n",
    "#[a-f]:it will check for the single lower case character from lower case a-f, so i not found\n",
    "\n",
    "import re\n",
    "datass=\"EnviRoment\"\n",
    "print(\"Example 3\")\n",
    "res=re.search(\"Env[a-z][A-Z]\",datass)\n",
    "if res!=None:\n",
    "    print(\"pattern found\",datass)\n",
    "else:\n",
    "    print(\"pattern not found\")\n",
    "print()\n",
    "#[A-Z]:it will check for the single upper case character from lower case A-Z, found\n",
    "\n",
    "import re\n",
    "datasss=\"EnviRoment\"\n",
    "print(\"Example 4\")\n",
    "res=re.search(\"Env[a-z][A-Z][1-9]\",datasss)\n",
    "if res!=None:\n",
    "    print(\"pattern found\",datasss)\n",
    "else:\n",
    "    print(\"pattern not found\")\n",
    "#[0-9]:it will check for the single number character from 0-9\n",
    "\n"
   ]
  },
  {
   "cell_type": "code",
   "execution_count": null,
   "id": "11e4ab1c-4b16-45ec-87e6-4ecae6330256",
   "metadata": {},
   "outputs": [],
   "source": []
  },
  {
   "cell_type": "raw",
   "id": "1b70c4c9-66e2-44ae-9c45-83e253040c92",
   "metadata": {},
   "source": [
    "WILDCARD EXPRESSION\n",
    "    >using wildcard expresssion: which search for any character(lower, upper, special(space and other), digit) except new line charcter\n",
    "        . (dot) is used to search any character"
   ]
  },
  {
   "cell_type": "code",
   "execution_count": 49,
   "id": "725c13be-80a6-4a24-b9c1-88627a05c825",
   "metadata": {},
   "outputs": [
    {
     "name": "stdout",
     "output_type": "stream",
     "text": [
      "Without New Line\n",
      "pattern found EnviRoment\n",
      "\n",
      "Without Line\n",
      "pattern not found\n"
     ]
    }
   ],
   "source": [
    "#using wildcard expresssion: \n",
    "import re\n",
    "data=\"EnviRoment\"\n",
    "print(\"Without New Line\")\n",
    "res=re.search(\"Env[a-z][A-Z].\",data)\n",
    "if res!=None:\n",
    "    print(\"pattern found\",data)\n",
    "else:\n",
    "    print(\"pattern not found\")\n",
    "print()\n",
    "\n",
    "import re\n",
    "data=\"EnviR\\n oment\"\n",
    "print(\"Without Line\")\n",
    "res=re.search(\"Env[a-z][A-Z].\",data)\n",
    "if res!=None:\n",
    "    print(\"pattern found\",data)\n",
    "else:\n",
    "    print(\"pattern not found\")\n"
   ]
  },
  {
   "cell_type": "code",
   "execution_count": null,
   "id": "9a4bc168-6631-4a37-bd99-a909bb567328",
   "metadata": {},
   "outputs": [],
   "source": []
  },
  {
   "cell_type": "code",
   "execution_count": null,
   "id": "aa9b457e-0cb9-428b-8322-aa1a1c284fda",
   "metadata": {},
   "outputs": [],
   "source": []
  },
  {
   "cell_type": "code",
   "execution_count": 62,
   "id": "f2db468f-7c5a-4094-b5d5-0730334c8644",
   "metadata": {},
   "outputs": [
    {
     "name": "stdout",
     "output_type": "stream",
     "text": [
      "Example 1\n",
      "Searching for pattern ---> a\n",
      "['a', 'a', 'a', 'a', 'a', 'a', 'a', 'a', 'a', 'a', 'a', 'a', 'a', 'a', 'a', 'a', 'a', 'a', 'a', 'a', 'a', 'a', 'a', 'a', 'a', 'a']\n",
      "\n",
      "Example 2\n",
      "Searching for pattern ---> ab\n",
      "['ab', 'ab', 'ab', 'ab', 'ab', 'ab', 'ab']\n",
      "\n",
      "Example 3\n",
      "Searching for pattern ---> a+\n",
      "['aaaaaa', 'a', 'a', 'a', 'aaaaaaaaa', 'a', 'aaaa', 'aaa']\n",
      "\n",
      "Example 4\n",
      "Searching for pattern ---> a*\n",
      "['aaaaaa', '', '', '', '', '', '', '', '', '', '', '', '', '', '', '', '', '', '', '', '', '', '', 'a', '', '', '', '', 'a', '', '', '', 'a', '', '', '', '', 'aaaaaaaaa', '', '', '', '', '', '', '', '', 'a', '', 'aaaa', '', 'aaa', '', '', '', '', '', '', '']\n",
      "\n",
      "Example 5\n",
      "Searching for pattern ---> ab+\n",
      "['abbbbbbbbb', 'abbbb', 'abbb', 'abbbb', 'ab', 'ab', 'abbbbbb']\n",
      "\n",
      "Example 6\n",
      "Searching for pattern ---> ab*\n",
      "['a', 'a', 'a', 'a', 'a', 'abbbbbbbbb', 'abbbb', 'abbb', 'abbbb', 'a', 'a', 'a', 'a', 'a', 'a', 'a', 'a', 'a', 'ab', 'a', 'a', 'a', 'ab', 'a', 'a', 'abbbbbb']\n",
      "\n",
      "Example 7\n",
      "Searching for pattern ---> a+b+\n",
      "['aaaaaabbbbbbbbb', 'abbbb', 'abbb', 'abbbb', 'ab', 'aaaab', 'aaabbbbbb']\n",
      "\n",
      "Example 8\n",
      "Searching for pattern ---> a*b*\n",
      "['aaaaaabbbbbbbbb', '', '', '', '', '', '', '', '', '', '', '', 'bb', 'abbbb', 'abbb', 'abbbb', 'aaaaaaaaa', '', '', '', '', '', '', '', '', 'ab', 'aaaab', 'aaabbbbbb', '']\n",
      "\n"
     ]
    }
   ],
   "source": [
    "import re\n",
    "print(\"Example 1\")\n",
    "pattern = \"aaaaaabbbbbbbbb...........bbabbbbabbbabbbbaaaaaaaaa........abaaaabaaabbbbbb\"\n",
    "pat = ['a']\n",
    "print(\"Find only character a\")\n",
    "# Define the function to search for multiple patterns\n",
    "def multi_find(pat, pattern):\n",
    "    for i in pat:\n",
    "        print(\"Searching for pattern --->\", i)\n",
    "        print(re.findall(i, pattern))\n",
    "\n",
    "# Call the function\n",
    "multi_find(pat, pattern)\n",
    "print()\n",
    "\n",
    "import re\n",
    "print(\"Example 2\")\n",
    "pattern = \"aaaaaabbbbbbbbb...........bbabbbbabbbabbbbaaaaaaaaa........abaaaabaaabbbbbb\"\n",
    "pat = ['ab']\n",
    "print(\"FINDS ONLY CHARACTER AB\")\n",
    "# Define the function to search for multiple patterns\n",
    "def multi_find(pat, pattern):\n",
    "    for i in pat:\n",
    "        print(\"Searching for pattern --->\", i)\n",
    "        print(re.findall(i, pattern))\n",
    "\n",
    "# Call the function\n",
    "multi_find(pat, pattern)\n",
    "print()\n",
    "\n",
    "import re\n",
    "print(\"Example 3\")\n",
    "pattern = \"aaaaaabbbbbbbbb...........bbabbbbabbbabbbbaaaaaaaaa........abaaaabaaabbbbbb\"\n",
    "pat = ['a+']\n",
    "print(\"FINDS CHARACTER THAT IS A AND MORE A'S\")\n",
    "# Define the function to search for multiple patterns\n",
    "def multi_find(pat, pattern):\n",
    "    for i in pat:\n",
    "        print(\"Searching for pattern --->\", i)\n",
    "        print(re.findall(i, pattern))\n",
    "\n",
    "# Call the function\n",
    "multi_find(pat, pattern)\n",
    "print()\n",
    "\n",
    "import re\n",
    "print(\"Example 4\")\n",
    "pattern = \"aaaaaabbbbbbbbb...........bbabbbbabbbabbbbaaaaaaaaa........abaaaabaaabbbbbb\"\n",
    "pat = ['a*']\n",
    "print(\"FINDS CHARACTER THAT IS A AND MORE A'S AND 0 A'S\")\n",
    "# Define the function to search for multiple patterns\n",
    "def multi_find(pat, pattern):\n",
    "    for i in pat:\n",
    "        print(\"Searching for pattern --->\", i)\n",
    "        print(re.findall(i, pattern))\n",
    "\n",
    "# Call the function\n",
    "multi_find(pat, pattern)\n",
    "print()\n",
    "\n",
    "import re\n",
    "print(\"Example 5\")\n",
    "pattern = \"aaaaaabbbbbbbbb...........bbabbbbabbbabbbbaaaaaaaaa........abaaaabaaabbbbbb\"\n",
    "pat = ['ab+']\n",
    "print(\"FINDS CHARACTER THAT HAS 1 A AND  1 B AND MORE B\" )\n",
    "# Define the function to search for multiple patterns\n",
    "def multi_find(pat, pattern):\n",
    "    for i in pat:\n",
    "        print(\"Searching for pattern --->\", i)\n",
    "        print(re.findall(i, pattern))\n",
    "\n",
    "# Call the function\n",
    "multi_find(pat, pattern)\n",
    "print()\n",
    "\n",
    "\n",
    "import re\n",
    "print(\"Example 6\")\n",
    "pattern = \"aaaaaabbbbbbbbb...........bbabbbbabbbabbbbaaaaaaaaa........abaaaabaaabbbbbb\"\n",
    "pat = ['ab*']\n",
    "print(\"FINDS CHARACTER THAT HAS 1 A AND  0,1 B AND MORE B\" )\n",
    "# Define the function to search for multiple patterns\n",
    "def multi_find(pat, pattern):\n",
    "    for i in pat:\n",
    "        print(\"Searching for pattern --->\", i)\n",
    "        print(re.findall(i, pattern))\n",
    "\n",
    "# Call the function\n",
    "multi_find(pat, pattern)\n",
    "print()\n",
    "\n",
    "import re\n",
    "print(\"Example 7\")\n",
    "pattern = \"aaaaaabbbbbbbbb...........bbabbbbabbbabbbbaaaaaaaaa........abaaaabaaabbbbbb\"\n",
    "pat = ['a+b+']\n",
    "print(\"FINDS CHARACTER THAT HAS 1  OR MORE A AND  1 OR  MORE B\" )\n",
    "\n",
    "# Define the function to search for multiple patterns\n",
    "def multi_find(pat, pattern):\n",
    "    for i in pat:\n",
    "        print(\"Searching for pattern --->\", i)\n",
    "        print(re.findall(i, pattern))\n",
    "\n",
    "# Call the function\n",
    "multi_find(pat, pattern)\n",
    "print()\n",
    "\n",
    "\n",
    "import re\n",
    "print(\"Example 8\")\n",
    "pattern = \"aaaaaabbbbbbbbb...........bbabbbbabbbabbbbaaaaaaaaa........abaaaabaaabbbbbb\"\n",
    "pat = ['a*b*']\n",
    "print(\"FINDS CHARACTER THAT HAS 0,1,MORE A AND  0,1 B AND MORE B\" )\n",
    "\n",
    "# Define the function to search for multiple patterns\n",
    "def multi_find(pat, pattern):\n",
    "    for i in pat:\n",
    "        print(\"Searching for pattern --->\", i)\n",
    "        print(re.findall(i, pattern))\n",
    "\n",
    "# Call the function\n",
    "multi_find(pat, pattern)\n",
    "print()"
   ]
  },
  {
   "cell_type": "code",
   "execution_count": null,
   "id": "38bad631-372e-4fef-a463-2d7460f5a113",
   "metadata": {},
   "outputs": [],
   "source": []
  }
 ],
 "metadata": {
  "kernelspec": {
   "display_name": "Python 3 (ipykernel)",
   "language": "python",
   "name": "python3"
  },
  "language_info": {
   "codemirror_mode": {
    "name": "ipython",
    "version": 3
   },
   "file_extension": ".py",
   "mimetype": "text/x-python",
   "name": "python",
   "nbconvert_exporter": "python",
   "pygments_lexer": "ipython3",
   "version": "3.12.7"
  }
 },
 "nbformat": 4,
 "nbformat_minor": 5
}
