{
 "cells": [
  {
   "cell_type": "code",
   "execution_count": 2,
   "id": "214e3000-2edf-418f-8dab-d8c7670ec443",
   "metadata": {},
   "outputs": [
    {
     "data": {
      "text/plain": [
       "[1, 2, 3, 4, 5, 6]"
      ]
     },
     "execution_count": 2,
     "metadata": {},
     "output_type": "execute_result"
    }
   ],
   "source": [
    "#1. Create and Print a List\n",
    "l=[1,2,3,4,5,6]\n",
    "l"
   ]
  },
  {
   "cell_type": "code",
   "execution_count": 5,
   "id": "33508319-4822-4f43-bd6c-9aebb43de5ee",
   "metadata": {},
   "outputs": [
    {
     "name": "stdout",
     "output_type": "stream",
     "text": [
      "21\n"
     ]
    }
   ],
   "source": [
    "#2. Sum of All Elements\n",
    "l=[1,2,3,4,5,6]\n",
    "sum=0\n",
    "for i in l:\n",
    "    sum+=i\n",
    "print(\"sum is \",sum)"
   ]
  },
  {
   "cell_type": "code",
   "execution_count": 10,
   "id": "edd78e04-16dc-4d5c-a8fc-f4849426fa90",
   "metadata": {},
   "outputs": [
    {
     "name": "stdout",
     "output_type": "stream",
     "text": [
      "largest number 9\n",
      "smallest number 1\n"
     ]
    }
   ],
   "source": [
    "#3. Find the Largest and Smallest Element\n",
    "l=[1,2,3,7,4,9,5,6]\n",
    "larg=l[1]\n",
    "small=l[1]\n",
    "for i in l:\n",
    "    if larg<i:\n",
    "        larg=i\n",
    "    if small>i:\n",
    "        small=i\n",
    "print(\"largest number\",larg)\n",
    "print(\"smallest number\",small)"
   ]
  },
  {
   "cell_type": "code",
   "execution_count": 11,
   "id": "2125c30d-f1aa-4e64-8896-783d8431925a",
   "metadata": {},
   "outputs": [
    {
     "name": "stdout",
     "output_type": "stream",
     "text": [
      "[6, 5, 9, 4, 7, 3, 2, 1]\n"
     ]
    }
   ],
   "source": [
    "#4. Reverse a List\n",
    "l=[1,2,3,7,4,9,5,6]\n",
    "print(l[::-1])"
   ]
  },
  {
   "cell_type": "code",
   "execution_count": 13,
   "id": "5a3e533d-a55a-4d40-8dea-5bf2c16de4c9",
   "metadata": {},
   "outputs": [
    {
     "name": "stdin",
     "output_type": "stream",
     "text": [
      "Enter the value to be searched:  true\n"
     ]
    },
    {
     "name": "stdout",
     "output_type": "stream",
     "text": [
      "The value 'True' appears 1 times in the list.\n"
     ]
    }
   ],
   "source": [
    "#5.Count Frequency of an Element\n",
    "l = [4.1, 2, 3, \"hello\", 7, 4, True, 6, 4, False, \"hello\", 4.1]\n",
    "user = input(\"Enter the value to be searched: \")\n",
    "\n",
    "\n",
    "if user.lower() == \"true\":\n",
    "    user = True\n",
    "elif user.lower() == \"false\":\n",
    "    user = False\n",
    "else:\n",
    "    try:\n",
    "        user = eval(user)  \n",
    "    except:\n",
    "        pass  \n",
    "\n",
    "count = l.count(user)\n",
    "print(f\"The value '{user}' appears {count} times in the list.\")\n",
    "\n",
    "    "
   ]
  },
  {
   "cell_type": "code",
   "execution_count": 22,
   "id": "60437e0f-1ce4-401e-be2a-8c06616d2ccb",
   "metadata": {},
   "outputs": [
    {
     "name": "stdout",
     "output_type": "stream",
     "text": [
      "[3, 4, 5, 6, 7, 8, 9, 10, 12, 13, 14, 15, 16, 17, 19, 20, 21, 22, 23, 24, 25, 26, 27, 28, 29, 30, 31, 33, 34, 35, 36, 37, 38, 39, 40]\n"
     ]
    }
   ],
   "source": [
    "#6. print the missing elements from given list exculding the number\n",
    "l=[2,11,18,32,41]\n",
    "m=[]\n",
    "for i in range(min(l),max(l)+1):\n",
    "    if i not in l:\n",
    "        m.append(i)\n",
    "print(m)"
   ]
  },
  {
   "cell_type": "code",
   "execution_count": 23,
   "id": "363ba0ff-2925-4756-9332-00c6b50ff7d5",
   "metadata": {},
   "outputs": [
    {
     "ename": "SyntaxError",
     "evalue": "incomplete input (2799678931.py, line 8)",
     "output_type": "error",
     "traceback": [
      "\u001b[1;36m  Cell \u001b[1;32mIn[23], line 8\u001b[1;36m\u001b[0m\n\u001b[1;33m    \u001b[0m\n\u001b[1;37m    ^\u001b[0m\n\u001b[1;31mSyntaxError\u001b[0m\u001b[1;31m:\u001b[0m incomplete input\n"
     ]
    }
   ],
   "source": [
    "#7. Bubble sort\n",
    "l=[5,2,9,1]\n",
    "print(\"before sorting\",l)\n",
    "\n",
    "#sorting logic\n",
    "for i in range(len(l)):\n",
    "    for j in range(0, len(l)-i-1):\n",
    "        "
   ]
  },
  {
   "cell_type": "code",
   "execution_count": null,
   "id": "26aacae3-91c2-4850-8b7a-d707ce1be640",
   "metadata": {},
   "outputs": [],
   "source": [
    "#8. Selection sort"
   ]
  },
  {
   "cell_type": "code",
   "execution_count": null,
   "id": "64555792-9365-401d-bbc2-76cce136a85d",
   "metadata": {},
   "outputs": [],
   "source": [
    "#9.Inseration sort"
   ]
  },
  {
   "cell_type": "code",
   "execution_count": 1,
   "id": "522d5086-b807-435c-b2a4-e3f6a36f957e",
   "metadata": {},
   "outputs": [
    {
     "name": "stdout",
     "output_type": "stream",
     "text": [
      "[-8, -6, -4, -2, -9, -7, -5, -3, -1]\n"
     ]
    }
   ],
   "source": [
    "#10.Sort all even numbers first and odd numbers next (from a list of negative integers)\n",
    "numbers = [-9, -8, -7, -6, -5, -4, -3, -2, -1]\n",
    "even_number=[i for i in numbers if i%2==0]\n",
    "odd_number=[i for i in numbers if i%2!=0]\n",
    "even_number.sort()\n",
    "odd_number.sort()\n",
    "\n",
    "print(even_number+odd_number)\n",
    "\n",
    "\n"
   ]
  },
  {
   "cell_type": "code",
   "execution_count": 3,
   "id": "5e0710b0-f4b6-40e5-a2b0-7b32767af52e",
   "metadata": {},
   "outputs": [
    {
     "name": "stdout",
     "output_type": "stream",
     "text": [
      "number count 4\n",
      "character count 3\n"
     ]
    }
   ],
   "source": [
    "#11.Count numbers and characters in a list\n",
    "mixed_list = ['a', 5, 'b', 9, 'z', -3, '@', 8, '2']\n",
    "count=0\n",
    "count1=0\n",
    "for i in mixed_list:\n",
    "    if isinstance(i,int):\n",
    "        count+=1\n",
    "    elif isinstance(i,str) and i.isalpha():\n",
    "        count1+=1\n",
    "print(\"number count\",count)\n",
    "print(\"character count\",count1)"
   ]
  },
  {
   "cell_type": "code",
   "execution_count": 5,
   "id": "81db6a8e-9d6a-4007-9a3d-b01734e66daf",
   "metadata": {},
   "outputs": [
    {
     "name": "stdout",
     "output_type": "stream",
     "text": [
      "number count [5, 9, -3, 8]\n",
      "character count ['a', 'b', 'z']\n"
     ]
    }
   ],
   "source": [
    "#12.Create a list that accepts only numbers and characters\n",
    "mixed_list = ['a', 5, 'b', 9, 'z', -3, '@', 8, '2']\n",
    "count=[]\n",
    "count1=[]\n",
    "for i in mixed_list:\n",
    "    if isinstance(i,int):\n",
    "        count.append(i)\n",
    "    elif isinstance(i,str) and i.isalpha():\n",
    "        count1.append(i)\n",
    "print(\"number count\",count)\n",
    "print(\"character count\",count1)"
   ]
  },
  {
   "cell_type": "code",
   "execution_count": 1,
   "id": "16cc06bb-2b64-4238-8507-156c1d994717",
   "metadata": {},
   "outputs": [
    {
     "name": "stdout",
     "output_type": "stream",
     "text": [
      "20\n",
      "25\n"
     ]
    }
   ],
   "source": [
    "#13.Find the sum of all even and odd numbers in a list separately.\n",
    "l=[1,2,3,4,5,6,7,8,9]\n",
    "sum_even=0\n",
    "odd_even=0\n",
    "for i in l:\n",
    "    if i%2==0:\n",
    "        sum_even+=i\n",
    "    else:\n",
    "        odd_even+=i\n",
    "print(sum_even)\n",
    "print(odd_even)\n",
    "        \n"
   ]
  },
  {
   "cell_type": "code",
   "execution_count": 17,
   "id": "ddab0cb1-4a71-43e3-a369-221c3aa9c679",
   "metadata": {},
   "outputs": [
    {
     "name": "stdout",
     "output_type": "stream",
     "text": [
      "before reversing [1, 2, 3, 4, 5, 6, 7, 8, 9]\n",
      "9 8 7 6 5 4 3 2 1 "
     ]
    }
   ],
   "source": [
    "#14.Reverse a list without using the reverse() function or slicing.\n",
    "l=[1,2,3,4,5,6,7,8,9]\n",
    "print(\"before reversing\",l)\n",
    "for i in range(len(l),0,-1):\n",
    "    print(i,end=' ')"
   ]
  },
  {
   "cell_type": "code",
   "execution_count": 18,
   "id": "05e4bcf4-fda1-4812-8fa5-b0e90156bb99",
   "metadata": {},
   "outputs": [
    {
     "ename": "SyntaxError",
     "evalue": "expected ':' (1387921047.py, line 3)",
     "output_type": "error",
     "traceback": [
      "\u001b[1;36m  Cell \u001b[1;32mIn[18], line 3\u001b[1;36m\u001b[0m\n\u001b[1;33m    for i in range()\u001b[0m\n\u001b[1;37m                    ^\u001b[0m\n\u001b[1;31mSyntaxError\u001b[0m\u001b[1;31m:\u001b[0m expected ':'\n"
     ]
    }
   ],
   "source": [
    "#15. Check if a list is sorted in ascending order.\n",
    "l=[1,2,3,4,5,6,7,8,9]\n",
    "for i in range()"
   ]
  },
  {
   "cell_type": "code",
   "execution_count": 24,
   "id": "85a9c103-6d10-4467-93d7-824f2c1eab05",
   "metadata": {},
   "outputs": [
    {
     "name": "stdout",
     "output_type": "stream",
     "text": [
      "{1: 1, 2: 2, 3: 3, 4: 4}\n"
     ]
    }
   ],
   "source": [
    "#16.Count the frequency of each element in a list without using Counter from the collections module\n",
    "l = [1, 2, 2, 3, 3, 3, 4, 4, 4, 4]\n",
    "d={}\n",
    "for i in l:\n",
    "    if i in d:\n",
    "        d[i]+=1\n",
    "    else:\n",
    "        d[i]=1\n",
    "print(d)\n",
    "    \n"
   ]
  },
  {
   "cell_type": "code",
   "execution_count": 34,
   "id": "f625260d-917a-4ae5-a86c-481c3be62cf6",
   "metadata": {},
   "outputs": [
    {
     "name": "stdout",
     "output_type": "stream",
     "text": [
      "APPROCH 1\n",
      "palindrome\n",
      "\n",
      "APPROCH 2\n",
      "The list is palindrome\n"
     ]
    }
   ],
   "source": [
    "#17.program to check if list is palindrome or not\n",
    "#approch 1\n",
    "print(\"APPROCH 1\")\n",
    "l=[1,2,3,4,3,2,1]\n",
    "reverse=l[::-1]\n",
    "if l==reverse:\n",
    "    print(\"List is palindrome\")\n",
    "else:\n",
    "    print(\"List is not palindrome\")\n",
    "print()\n",
    "\n",
    "\n",
    "print(\"APPROCH 2\")\n",
    "#approch 2l\n",
    "l2=[1,2,3,4,3,2,1]\n",
    "j=len(l2)-1\n",
    "for i in range(len(l2)):\n",
    "    if l2[i]!=l2[j]:\n",
    "        print(\"The list is not palindrome\")\n",
    "        break\n",
    "    j-=1\n",
    "else:\n",
    "    print(\"The list is palindrome\")\n",
    "        "
   ]
  },
  {
   "cell_type": "code",
   "execution_count": 40,
   "id": "23efbb53-4b01-4c40-b26b-1ce411763477",
   "metadata": {},
   "outputs": [
    {
     "name": "stdin",
     "output_type": "stream",
     "text": [
      "enter the value to be searched: 10\n"
     ]
    },
    {
     "name": "stdout",
     "output_type": "stream",
     "text": [
      "The target value 10 found at 8\n"
     ]
    }
   ],
   "source": [
    "#18.search the element present in a given list or not\n",
    "l=[1,34,12,56,22,34,67,89,10]\n",
    "user=int(input(\"enter the value to be searched:\"))\n",
    "for i in range(len(l)):\n",
    "    if user==l[i]:\n",
    "        print(f\"The target value {user} found at {i}\")\n",
    "        break\n",
    "else:\n",
    "    print(f\"The target value {user} not found\")"
   ]
  },
  {
   "cell_type": "code",
   "execution_count": 47,
   "id": "129daadf-a95a-495b-93f7-ae0d206298b9",
   "metadata": {},
   "outputs": [
    {
     "name": "stdin",
     "output_type": "stream",
     "text": [
      "number of rotation 6\n"
     ]
    },
    {
     "name": "stdout",
     "output_type": "stream",
     "text": [
      "[22, 33, 44, 55, 11]\n",
      "[33, 44, 55, 11, 22]\n",
      "[44, 55, 11, 22, 33]\n",
      "[55, 11, 22, 33, 44]\n",
      "[11, 22, 33, 44, 55]\n",
      "[22, 33, 44, 55, 11]\n"
     ]
    }
   ],
   "source": [
    "#left rotation\n",
    "l=[11,22,33,44,55]\n",
    "user=int(input(\"number of rotation\"))\n",
    "for _ in range(user):\n",
    "    temp=l[0]\n",
    "    for i in range(len(l)-1):\n",
    "        l[i]=l[i+1]\n",
    "    l[len(l)-1]=temp\n",
    "    print(l)\n",
    "\n",
    "    "
   ]
  },
  {
   "cell_type": "code",
   "execution_count": 116,
   "id": "16306920-7476-4704-8e03-a6b70310bc5c",
   "metadata": {},
   "outputs": [
    {
     "name": "stdin",
     "output_type": "stream",
     "text": [
      "no of rotation 5\n"
     ]
    },
    {
     "name": "stdout",
     "output_type": "stream",
     "text": [
      "right  shift ['a', 'b', 'c', 'd', 'e']\n"
     ]
    }
   ],
   "source": [
    "#19.right rotation\n",
    "l=['a','b','c','d','e']\n",
    "user=int(input(\"no of rotation\"))\n",
    "for _ in range(user):\n",
    "    temp=l[len(l)-1]\n",
    "    for i in range(len(l)-1,0,-1):\n",
    "        l[i]=l[i-1]\n",
    "    l[0]=temp\n",
    "print(\"right  shift\",l)"
   ]
  },
  {
   "cell_type": "code",
   "execution_count": 90,
   "id": "c96ca102-12f3-42c3-8255-c0ce9889c516",
   "metadata": {},
   "outputs": [
    {
     "name": "stdout",
     "output_type": "stream",
     "text": [
      "['i@@', '#$%os', '&*(lufuoyknaht', '#$^%rof', '^%$siht', '#@!noisses']\n"
     ]
    }
   ],
   "source": [
    "#20if special character is grater 3 reverse the value\n",
    "l=['i@@','so%$#','thankyouful(*&','for%^$#','this$%^','session!@#']\n",
    "new=[]\n",
    "for i in l:\n",
    "    spc_count=0\n",
    "    for j in i:\n",
    "        if j >= 'a' and j <= 'z' or j >= 'A' and j <= 'Z' or j >= '0' and j <= '9':\n",
    "            continue\n",
    "        else:\n",
    "            spc_count+=1\n",
    "            # print(j,\"-->\",spc_count)\n",
    "    # print(i,\"-->\",spc_count)\n",
    "    if spc_count>=3:\n",
    "        new.append(i[::-1])\n",
    "    else:\n",
    "        new.append(i)\n",
    "print(new)"
   ]
  },
  {
   "cell_type": "code",
   "execution_count": 115,
   "id": "6bd57e10-a356-492c-b102-be4c7147e697",
   "metadata": {},
   "outputs": [
    {
     "name": "stdout",
     "output_type": "stream",
     "text": [
      "[2, 3, 67, 5, 7, 11, 23, 17, 19]\n"
     ]
    }
   ],
   "source": [
    "#21.program to take n number of non negative integer value and display only prime number present in given list \n",
    "l=[90,2,3,67,5,6,7,34,11,23,17,19,20]\n",
    "l1=[]\n",
    "for i in l:\n",
    "    for j in range(2,i):\n",
    "        if i%j==0:\n",
    "            break\n",
    "    else:\n",
    "        l1.append(i) \n",
    "print(l1)    \n",
    "            "
   ]
  },
  {
   "cell_type": "code",
   "execution_count": 17,
   "id": "a411ea71-e4a0-4f01-a909-eca8dd321453",
   "metadata": {},
   "outputs": [
    {
     "name": "stdout",
     "output_type": "stream",
     "text": [
      "second largest is:  19\n",
      "second smallest is:  8\n"
     ]
    }
   ],
   "source": [
    "#22. Write a program to find the second largest element in the list.\n",
    "l = [12, 5, 8, 21, 19]\n",
    "larg=max(l)\n",
    "second=max([i for i in l if i!=larg])\n",
    "print(\"second largest is: \",second)\n",
    "\n",
    "\n",
    "# Write a program to find the second smallest element in the list.\n",
    "l = [12, 5, 8, 21, 19]\n",
    "small=min(l)\n",
    "second_small=min([i for i in l if i!=small])\n",
    "print(\"second smallest is: \",second_small)"
   ]
  },
  {
   "cell_type": "code",
   "execution_count": 18,
   "id": "40f541ba-7977-4c05-8614-a7216805b414",
   "metadata": {},
   "outputs": [
    {
     "name": "stdout",
     "output_type": "stream",
     "text": [
      "[4, 5]\n"
     ]
    }
   ],
   "source": [
    "#23. Print the common elements between these two lists.\n",
    "l1 = [1, 2, 3, 4, 5]\n",
    "l2 = [4, 5, 6, 7, 8]\n",
    "\n",
    "l3=[i for i in l1 if i in l2]\n",
    "print(l3)"
   ]
  },
  {
   "cell_type": "code",
   "execution_count": 31,
   "id": "b1f1b212-e567-4aab-8c87-1de0ae63010e",
   "metadata": {},
   "outputs": [
    {
     "name": "stdout",
     "output_type": "stream",
     "text": [
      "pairs are :  4 9\n",
      "pairs are :  5 8\n",
      "pairs are :  8 5\n",
      "pairs are :  9 4\n"
     ]
    }
   ],
   "source": [
    "#23. Print all pairs of elements that sum up to the target value.\n",
    "l = [2, 4, 3, 5, 7, 8, 9]\n",
    "target_sum = 13\n",
    "\n",
    "for i in l:\n",
    "    for j in l:\n",
    "        if i+j==target_sum:\n",
    "            print(\"pairs are : \",i,j)"
   ]
  },
  {
   "cell_type": "code",
   "execution_count": 63,
   "id": "f89f5b8a-dba1-4c55-81fd-ec7191276c27",
   "metadata": {},
   "outputs": [
    {
     "name": "stdout",
     "output_type": "stream",
     "text": [
      "[-1, -1]\n"
     ]
    }
   ],
   "source": [
    "#24. find first occurance and last occurance if not -1\n",
    "l=[10,11,11,11,34,56,67]\n",
    "target=8\n",
    "final=[]\n",
    "for i in range(len(l)-1):\n",
    "    if l[i] == target:\n",
    "        final.append(i)\n",
    "        break\n",
    "else:\n",
    "    final.append(-1)\n",
    "    \n",
    "for i in range(len(l)-1,-1,-1):\n",
    "    if l[i]==target:\n",
    "        final.append(i)\n",
    "        break\n",
    "else:\n",
    "    final.append(-1)\n",
    "print(final)"
   ]
  },
  {
   "cell_type": "code",
   "execution_count": 104,
   "id": "887ae2d8-242a-4855-8f12-f833b5f5356d",
   "metadata": {},
   "outputs": [
    {
     "name": "stdout",
     "output_type": "stream",
     "text": [
      "list is not unique\n"
     ]
    }
   ],
   "source": [
    "#25. Check if All Elements in a List Are Unique:\n",
    "l = [1, 2, 3, 4, 5, 7,5]\n",
    "for i in range(len(l)):\n",
    "    for j in range(i+1,len(l)):\n",
    "        if l[i]==l[j]:\n",
    "            print(\"list is not unique\")\n",
    "            break                 \n",
    "    else:\n",
    "        continue\n",
    "    break\n",
    "else:\n",
    "    print(\"it is unique\")\n",
    "        "
   ]
  },
  {
   "cell_type": "code",
   "execution_count": 10,
   "id": "bc65e7d2-ae54-4259-8a0b-f29c922dcf67",
   "metadata": {},
   "outputs": [
    {
     "name": "stdout",
     "output_type": "stream",
     "text": [
      "[2, 4]\n"
     ]
    }
   ],
   "source": [
    "#26.Find All Elements That Appear Exactly Twice\n",
    "l = [1, 2, 3, 2, 4, 5, 6, 4, 7]\n",
    "d={}\n",
    "for i in l:\n",
    "    if i in d:\n",
    "        d[i]+=1\n",
    "    else:\n",
    "        d[i]=1\n",
    "\n",
    "result=[key for key,value in d.items() if value==2]\n",
    "print(result)\n",
    "        \n"
   ]
  },
  {
   "cell_type": "code",
   "execution_count": 1,
   "id": "6e6fda2b-a16b-484c-a955-f249662d6047",
   "metadata": {},
   "outputs": [
    {
     "name": "stdout",
     "output_type": "stream",
     "text": [
      "4\n",
      "16\n",
      "25\n"
     ]
    }
   ],
   "source": [
    "#27.Check for Perfect Squares\n",
    "from math import sqrt\n",
    "l = [4, 8, 16, 25, 30]\n",
    "for i in l:\n",
    "    root=sqrt(i)\n",
    "    if root==int(root):\n",
    "        print(i)"
   ]
  },
  {
   "cell_type": "code",
   "execution_count": null,
   "id": "aef61ee4-a3ef-4f7f-9875-d534e4b46bfe",
   "metadata": {},
   "outputs": [],
   "source": []
  },
  {
   "cell_type": "code",
   "execution_count": null,
   "id": "ff43b343-e33f-438c-9d15-f912f3fe1bb5",
   "metadata": {},
   "outputs": [],
   "source": []
  },
  {
   "cell_type": "code",
   "execution_count": null,
   "id": "606c7670-8bc8-4b33-b292-c98418a5861b",
   "metadata": {},
   "outputs": [],
   "source": []
  },
  {
   "cell_type": "code",
   "execution_count": null,
   "id": "adb438f2-9673-4009-8cc5-1f92f0469723",
   "metadata": {},
   "outputs": [],
   "source": []
  },
  {
   "cell_type": "code",
   "execution_count": null,
   "id": "21d57a4c-09dd-4fe3-a81f-5acfec4fbdd4",
   "metadata": {},
   "outputs": [],
   "source": []
  },
  {
   "cell_type": "code",
   "execution_count": null,
   "id": "347141da-0a3a-4ca0-b6b3-785d24f916a6",
   "metadata": {},
   "outputs": [],
   "source": []
  },
  {
   "cell_type": "code",
   "execution_count": null,
   "id": "d95c73a5-9e1b-4147-9ffe-f8e3f8b1531e",
   "metadata": {},
   "outputs": [],
   "source": []
  },
  {
   "cell_type": "code",
   "execution_count": null,
   "id": "28659ddb-efde-478d-8b1c-1addd4cffdf1",
   "metadata": {},
   "outputs": [],
   "source": []
  },
  {
   "cell_type": "code",
   "execution_count": null,
   "id": "b8bcabcf-3fb0-4707-b5b1-d2477d823d6d",
   "metadata": {},
   "outputs": [],
   "source": []
  },
  {
   "cell_type": "code",
   "execution_count": null,
   "id": "3feb949c-7882-4c3a-a22a-dc0788ef8172",
   "metadata": {},
   "outputs": [],
   "source": []
  },
  {
   "cell_type": "code",
   "execution_count": null,
   "id": "011399b5-577e-49a3-805e-c252419374a5",
   "metadata": {},
   "outputs": [],
   "source": []
  },
  {
   "cell_type": "code",
   "execution_count": null,
   "id": "4df403f2-9334-46d6-9de5-28793f514325",
   "metadata": {},
   "outputs": [],
   "source": []
  },
  {
   "cell_type": "code",
   "execution_count": 19,
   "id": "1093b503-0165-46a4-9a9c-a0f10d6dd7e4",
   "metadata": {},
   "outputs": [
    {
     "name": "stdout",
     "output_type": "stream",
     "text": [
      "['w', 'i']\n"
     ]
    }
   ],
   "source": [
    "#28.First Non-Repeating Character\n",
    "s = \"swiss\"\n",
    "d={}\n",
    "for i in s:\n",
    "    if i in d:\n",
    "        d[i]+=1\n",
    "    else:\n",
    "        d[i]=1\n",
    "result=[key for key,value in d.items() if value==1]\n",
    "print(result)\n",
    "    "
   ]
  },
  {
   "cell_type": "code",
   "execution_count": null,
   "id": "b8cad0f6-53fa-48f0-8692-cf77063e3867",
   "metadata": {},
   "outputs": [],
   "source": [
    "#29. Count Words Starting With a Vowel\n",
    "s=\"Apple is a tasty fruit and orange is juicy\""
   ]
  }
 ],
 "metadata": {
  "kernelspec": {
   "display_name": "Python 3 (ipykernel)",
   "language": "python",
   "name": "python3"
  },
  "language_info": {
   "codemirror_mode": {
    "name": "ipython",
    "version": 3
   },
   "file_extension": ".py",
   "mimetype": "text/x-python",
   "name": "python",
   "nbconvert_exporter": "python",
   "pygments_lexer": "ipython3",
   "version": "3.12.7"
  }
 },
 "nbformat": 4,
 "nbformat_minor": 5
}
