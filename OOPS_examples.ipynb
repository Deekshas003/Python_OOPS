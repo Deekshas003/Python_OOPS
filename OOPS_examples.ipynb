{
 "cells": [
  {
   "cell_type": "markdown",
   "id": "84530f69-92b6-4a5f-a239-6764e1ad2359",
   "metadata": {},
   "source": [
    "INHERITANCE\n"
   ]
  },
  {
   "cell_type": "markdown",
   "id": "5e45b72a-b6dd-4877-9e6b-bdfb4d3aace6",
   "metadata": {},
   "source": [
    "SINGLE INHERITANCE"
   ]
  },
  {
   "cell_type": "code",
   "execution_count": 7,
   "id": "56614462-ea8d-4d87-b469-5f16ae49a850",
   "metadata": {},
   "outputs": [
    {
     "name": "stdout",
     "output_type": "stream",
     "text": [
      "Maruti is starting\n",
      "Maruti starting to play music\n",
      "Maruti is stopping\n"
     ]
    }
   ],
   "source": [
    "#parent class--> vehicle and child car --> car\n",
    "\n",
    "class VEHICLE:\n",
    "    def __init__(self,brand,fuel_type):\n",
    "        self.brand=brand\n",
    "        self.fuel_type=fuel_type\n",
    "    def start(self):\n",
    "        print(f\"{self.brand} is starting\" )\n",
    "    def stop(self):\n",
    "        print(f\"{self.brand} is stopping\")\n",
    "\n",
    "class CAR(VEHICLE):\n",
    "    def __init__(self,brand,fuel_type,seats):\n",
    "        super().__init__(brand,fuel_type)\n",
    "        self.seats=seats\n",
    "    def play_music(self):\n",
    "        print(f\"{self.brand} starting to play music\")\n",
    "\n",
    "c=CAR(\"Maruti\",\"Petrol\",4)\n",
    "c.start()\n",
    "c.play_music()\n",
    "c.stop()     "
   ]
  },
  {
   "cell_type": "code",
   "execution_count": null,
   "id": "c5b32854-8d85-4318-90aa-9f87075a042d",
   "metadata": {},
   "outputs": [],
   "source": []
  },
  {
   "cell_type": "code",
   "execution_count": null,
   "id": "4d30f0b1-3776-43c2-a2d3-299d75a103ab",
   "metadata": {},
   "outputs": [],
   "source": []
  },
  {
   "cell_type": "markdown",
   "id": "0d7ffe3c-5be3-4de2-9296-ed0dbff24a80",
   "metadata": {},
   "source": [
    "MULTI-LEVEL INHERITANCE\n"
   ]
  },
  {
   "cell_type": "code",
   "execution_count": 9,
   "id": "aa634c95-265a-4ac9-8972-9ec756c5903f",
   "metadata": {},
   "outputs": [
    {
     "name": "stdout",
     "output_type": "stream",
     "text": [
      "DOG can breathe\n",
      "DOG give birth to yound ones and feed their babies\n",
      "DOG says BARK BARK\n"
     ]
    }
   ],
   "source": [
    "#class 1--> Animal  class2-->mammal  class3-->dog\n",
    "class ANIMAL():\n",
    "    def __init__(self,species):\n",
    "        self.species=species\n",
    "    def breathe(self):\n",
    "        print(f\"{self.species} can breathe\")\n",
    "\n",
    "class MAMMAL(ANIMAL):\n",
    "    def __init__(self,species,fur_color):\n",
    "        super().__init__(species)\n",
    "        self.fur_color=fur_color\n",
    "    def feed_young(self):\n",
    "        print(f\"{self.species} give birth to yound ones and feed their babies\")\n",
    "\n",
    "class DOG(MAMMAL):\n",
    "    def __init__(self,species,fur_color,breed):\n",
    "        super().__init__(species,fur_color)\n",
    "        self.breed=breed\n",
    "    def bark(self):\n",
    "        print(f\"{self.species} says BARK BARK\")\n",
    "\n",
    "d=DOG(\"DOG\",\"BROWN\",\"PUG\")\n",
    "d.breathe()\n",
    "d.feed_young()\n",
    "d.bark()\n",
    "        "
   ]
  },
  {
   "cell_type": "code",
   "execution_count": null,
   "id": "bca2d176-a268-49f7-958c-13a778b688dc",
   "metadata": {},
   "outputs": [],
   "source": []
  },
  {
   "cell_type": "code",
   "execution_count": null,
   "id": "cf44f157-b90a-4198-8fa9-95ff9d247140",
   "metadata": {},
   "outputs": [],
   "source": []
  },
  {
   "cell_type": "markdown",
   "id": "4a971503-f64b-4129-95e9-8eb1281790dd",
   "metadata": {},
   "source": [
    "MULTIPLE INHERITANCE\n"
   ]
  },
  {
   "cell_type": "code",
   "execution_count": 15,
   "id": "1c45c18e-5b9c-4384-8fcc-2326258247a1",
   "metadata": {},
   "outputs": [
    {
     "name": "stdout",
     "output_type": "stream",
     "text": [
      "ENGINE STARTED\n",
      "RED MAT color has been initialized to the body\n",
      "HYUNDAI Venue N Line has 570 horsepower with RED MAT color with price starting from 9.99 laks and animatically drives\n"
     ]
    }
   ],
   "source": [
    "#PARENT CLASS --> ENGINE, BODY and CHILD CLASS --> CAR\n",
    "\n",
    "class ENGINE:\n",
    "    def __init__(self,horsepower):\n",
    "        self.horsepower=horsepower\n",
    "    def start_engine(self):\n",
    "        print(\"ENGINE STARTED\")\n",
    "\n",
    "class BODY():\n",
    "    def __init__(self,paint):\n",
    "        self.paint=paint\n",
    "    def color(self):\n",
    "        print(f\"{self.paint} color has been initialized to the body\")\n",
    "\n",
    "class CAR(ENGINE, BODY):\n",
    "    carname=\"HYUNDAI Venue N Line\"\n",
    "    def __init__(self,horsepower,paint,price):\n",
    "        ENGINE.__init__(self,horsepower)\n",
    "        BODY.__init__(self,paint)\n",
    "        self.price=price\n",
    "    def drive(self):\n",
    "        print(f\"{self.carname} has {self.horsepower} horsepower with {self.paint} color with price starting from {self.price} laks and animatically drives\")\n",
    "\n",
    "c=CAR(570,\"RED MAT\",9.99)\n",
    "c.start_engine()\n",
    "c.color()\n",
    "c.drive()"
   ]
  },
  {
   "cell_type": "code",
   "execution_count": null,
   "id": "09a3d57e-b18f-4403-830a-582f5047efe7",
   "metadata": {},
   "outputs": [],
   "source": []
  },
  {
   "cell_type": "code",
   "execution_count": null,
   "id": "e877e982-edce-4103-9d21-dd59bce11503",
   "metadata": {},
   "outputs": [],
   "source": []
  },
  {
   "cell_type": "markdown",
   "id": "bf4521c9-0a84-4121-b034-27bac9b7bc8b",
   "metadata": {},
   "source": [
    "HIERACHICAL INHERITANCE\n"
   ]
  },
  {
   "cell_type": "code",
   "execution_count": 29,
   "id": "e7fcae09-b095-4b6e-b743-1b759f2f3abc",
   "metadata": {},
   "outputs": [
    {
     "name": "stdout",
     "output_type": "stream",
     "text": [
      "MY NAME IS Raksha\n",
      "Im a Teacher and I teach Python\n",
      "MY NAME IS Vijya\n",
      "Im a DOCTOR and I am specialized in Heart Surgeon\n"
     ]
    }
   ],
   "source": [
    "#PARENT CLASS --> PERSON , CHILD CLASS --> TEACHER  AND DOCTOR\n",
    "class PARENT():\n",
    "    def __init__(self,name):\n",
    "        self.name=name\n",
    "    def introduce(self):\n",
    "        print(f\"MY NAME IS {self.name}\")\n",
    "\n",
    "class TEACHER(PARENT):\n",
    "    def __init__(self,name,profession,subject):\n",
    "        super().__init__(name)\n",
    "        self.profession=profession\n",
    "        self.subject=subject\n",
    "    def teach(self):\n",
    "        print(f\"Im a {self.profession} and I teach {self.subject}\")\n",
    "\n",
    "class DOCTOR(PARENT):\n",
    "    def __init__(self,name,profession,specialization):\n",
    "        super().__init__(name)\n",
    "        self.profession=profession\n",
    "        self.specialization=specialization\n",
    "    def treat_pattient(self):\n",
    "        print(f\"Im a {self.profession} and I am specialized in {self.specialization}\")\n",
    "\n",
    "t=TEACHER(\"Raksha\",\"Teacher\",\"Python\")\n",
    "t.introduce()\n",
    "t.teach()\n",
    "d=DOCTOR(\"Vijya\",\"DOCTOR\",\"Heart Surgeries\")\n",
    "d.introduce()\n",
    "d.treat_pattient()\n",
    "    "
   ]
  },
  {
   "cell_type": "code",
   "execution_count": null,
   "id": "abeec90d-149c-41ad-b001-f274725efd4d",
   "metadata": {},
   "outputs": [],
   "source": []
  },
  {
   "cell_type": "code",
   "execution_count": null,
   "id": "afdef9a5-efd3-4b43-b2cf-311153a0cb7e",
   "metadata": {},
   "outputs": [],
   "source": []
  },
  {
   "cell_type": "markdown",
   "id": "bfe76570-a70e-4907-b5be-d47e1030fb64",
   "metadata": {},
   "source": [
    "HYBRID INHERITANCE\n"
   ]
  },
  {
   "cell_type": "code",
   "execution_count": 30,
   "id": "12787df0-f51f-4efa-9cca-d62117655f22",
   "metadata": {},
   "outputs": [],
   "source": [
    "#single inheritance-->employee --> developer\n",
    "#multiple inheritance--> developer + Teamlead --> projectmanager\n",
    "#multilevel iheritance--> employee --> developer --> project manager\n",
    "#hierachical inheritance-->developer ---> project manager and tester "
   ]
  },
  {
   "cell_type": "code",
   "execution_count": 21,
   "id": "783d77e3-d117-489c-b7fb-ea5c69a3edbb",
   "metadata": {},
   "outputs": [
    {
     "name": "stdout",
     "output_type": "stream",
     "text": [
      "Employee details:\n",
      "Name: Vijay\n",
      "ID: 101\n",
      "Vijay is coding in Python\n",
      "Team: Beta Team is having a meeting\n",
      "Vijay is managing the project : AI Assistant\n",
      "\n",
      "Employee details:\n",
      "Name: Jhansi\n",
      "ID: 102\n",
      "Jhansi is coding in Java\n",
      "Jhansi is testing code using Selenium\n"
     ]
    }
   ],
   "source": [
    "class EMPLOYEE:\n",
    "    def __init__(self,emp_id,name):\n",
    "        self.emp_id=emp_id\n",
    "        self.name=name\n",
    "        \n",
    "    def get_details(self):\n",
    "        print(f\"Employee details:\")\n",
    "        print(f\"Name: {self.name}\") \n",
    "        print(f\"ID: {self.emp_id}\")\n",
    "        \n",
    "\n",
    "class DEVELOPER(EMPLOYEE):\n",
    "    def __init__(self,emp_id,name,programming_lang):\n",
    "        EMPLOYEE.__init__(self,emp_id,name)\n",
    "        self.programming_lang=programming_lang\n",
    "        \n",
    "    def code(self):\n",
    "        print(f\"{self.name} is coding in {self.programming_lang}\")\n",
    "\n",
    "class TEAM_LEAD():\n",
    "    def __init__(self,team_name):\n",
    "        self.team_name=team_name\n",
    "        \n",
    "    def conduct_meeting(self):\n",
    "        print(f\"Team: {self.team_name} is having a meeting\")\n",
    "\n",
    "\n",
    "class PROJECT_MANAGER(DEVELOPER,TEAM_LEAD):\n",
    "    def __init__(self,emp_id,name,programming_lang,team_name,project_name):\n",
    "        DEVELOPER.__init__(self,emp_id,name,programming_lang)\n",
    "        TEAM_LEAD.__init__(self,team_name)\n",
    "        self.project_name=project_name\n",
    "        \n",
    "    def manage_project(self):\n",
    "        print(f\"{self.name} is managing the project : {self.project_name}\")\n",
    "\n",
    "\n",
    "class TESTER(DEVELOPER):\n",
    "    def __init__(self,emp_id,name,programming_lang,testing_tool):\n",
    "        DEVELOPER.__init__(self,emp_id,name,programming_lang)\n",
    "        self.testing_tool=testing_tool\n",
    "    \n",
    "    def test_code(self):\n",
    "        print(f\"{self.name} is testing code using {self.testing_tool}\")\n",
    "    \n",
    "pm=PROJECT_MANAGER(101,\"Vijay\",\"Python\",\"Beta Team\",\"AI Assistant\")\n",
    "pm.get_details()\n",
    "pm.code()\n",
    "pm.conduct_meeting()\n",
    "pm.manage_project()\n",
    "print()\n",
    "\n",
    "t=TESTER(102,\"Jhansi\",\"Java\",\"Selenium\")\n",
    "t.get_details()\n",
    "t.code()\n",
    "t.test_code()"
   ]
  },
  {
   "cell_type": "code",
   "execution_count": null,
   "id": "93748845-98d9-4767-86dc-02336c506523",
   "metadata": {},
   "outputs": [],
   "source": []
  },
  {
   "cell_type": "code",
   "execution_count": null,
   "id": "45c18508-af60-4cd3-930d-995c0a7cd5a9",
   "metadata": {},
   "outputs": [],
   "source": []
  }
 ],
 "metadata": {
  "kernelspec": {
   "display_name": "Python 3 (ipykernel)",
   "language": "python",
   "name": "python3"
  },
  "language_info": {
   "codemirror_mode": {
    "name": "ipython",
    "version": 3
   },
   "file_extension": ".py",
   "mimetype": "text/x-python",
   "name": "python",
   "nbconvert_exporter": "python",
   "pygments_lexer": "ipython3",
   "version": "3.12.7"
  }
 },
 "nbformat": 4,
 "nbformat_minor": 5
}
