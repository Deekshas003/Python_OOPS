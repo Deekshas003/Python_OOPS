{
 "cells": [
  {
   "cell_type": "code",
   "execution_count": 2,
   "id": "440343f5-1211-4ccc-a8cd-322d849a785d",
   "metadata": {},
   "outputs": [
    {
     "name": "stdin",
     "output_type": "stream",
     "text": [
      "enter the big value for a 5\n",
      "enter the small value for b 4\n"
     ]
    },
    {
     "name": "stdout",
     "output_type": "stream",
     "text": [
      "9\n",
      "1\n",
      "20\n",
      "1.25\n"
     ]
    }
   ],
   "source": [
    "#Write a program to take two numbers as input from the user and print their sum, difference, product, and quotient.\n",
    "a=int(input(\"enter the big value for a\"))\n",
    "b=int(input(\"enter the small value for b\"))\n",
    "print(a+b)\n",
    "print(a-b)\n",
    "print(a*b)\n",
    "print(a/b)\n",
    "      "
   ]
  },
  {
   "cell_type": "code",
   "execution_count": 5,
   "id": "86a24985-2f81-4c3c-b1fa-99fd1044d624",
   "metadata": {},
   "outputs": [
    {
     "name": "stdin",
     "output_type": "stream",
     "text": [
      "enter a value 23\n"
     ]
    },
    {
     "name": "stdout",
     "output_type": "stream",
     "text": [
      "23 is a positive number\n"
     ]
    }
   ],
   "source": [
    "#Check If a Number is Positive, Negative, or Zero\n",
    "a=int(input(\"enter a value\"))\n",
    "if a < 0:\n",
    "    print(f\"{a} is a negative number\")\n",
    "elif a==0:\n",
    "    print(f\"{a} is equal to 0\")\n",
    "else:\n",
    "    print(f\"{a} is a positive number\")"
   ]
  },
  {
   "cell_type": "code",
   "execution_count": 8,
   "id": "420896f6-0eb4-45e2-9add-ade4535c800c",
   "metadata": {},
   "outputs": [
    {
     "name": "stdin",
     "output_type": "stream",
     "text": [
      "enter the length 5\n",
      "enter the width 6\n"
     ]
    },
    {
     "name": "stdout",
     "output_type": "stream",
     "text": [
      "area of rectange is : 30\n"
     ]
    }
   ],
   "source": [
    "#Find the Area of a Rectangle\n",
    "length=int(input(\"enter the length\"))\n",
    "width=int(input(\"enter the width\"))\n",
    "area=length*width\n",
    "print(\"area of rectange is :\",area)"
   ]
  },
  {
   "cell_type": "code",
   "execution_count": 17,
   "id": "1ef13f79-858c-42cb-96af-5fa2d2de7dd3",
   "metadata": {},
   "outputs": [
    {
     "name": "stdin",
     "output_type": "stream",
     "text": [
      "enter a value 9\n"
     ]
    },
    {
     "name": "stdout",
     "output_type": "stream",
     "text": [
      "0 1 1 2 3 5 8 13 21 "
     ]
    }
   ],
   "source": [
    "#Fibonacci Sequence\n",
    "a=0\n",
    "b=1\n",
    "user=int(input(\"enter a value\"))\n",
    "count=0\n",
    "\n",
    "while count<user:\n",
    "    print(a,end=\" \")\n",
    "    a,b=b,a+b\n",
    "    count+=1\n",
    "    "
   ]
  },
  {
   "cell_type": "code",
   "execution_count": 22,
   "id": "b3ad8b71-4b84-47e5-b5fe-686276c4dfc1",
   "metadata": {},
   "outputs": [
    {
     "name": "stdout",
     "output_type": "stream",
     "text": [
      "5\n"
     ]
    }
   ],
   "source": [
    "#Count Vowels in a String\n",
    "s=\"hEllo worldaA\"\n",
    "count=0\n",
    "for i in s:\n",
    "    if i in ['a','e','i','o','u','A','E','I','O','U']:\n",
    "        count+=1\n",
    "print(count)"
   ]
  },
  {
   "cell_type": "code",
   "execution_count": 34,
   "id": "41472612-4e77-4dee-a595-a3e68cf8622f",
   "metadata": {},
   "outputs": [
    {
     "name": "stdout",
     "output_type": "stream",
     "text": [
      "logic 1\n",
      "palindrome\n",
      "\n",
      "LOGIC 2\n",
      "palindrome\n"
     ]
    }
   ],
   "source": [
    "#Palindrome logic\n",
    "s=\"madam\"\n",
    "print(\"logic 1\")\n",
    "if s==s[::-1]:\n",
    "    print(\"palindrome\")\n",
    "else:\n",
    "    print(\"not a palindrome\")\n",
    "\n",
    "print()\n",
    "print(\"LOGIC 2\")\n",
    "j=len(s)-1\n",
    "for i in range(len(s)):\n",
    "        if s[i]!=s[j]:\n",
    "            print(\"not palindrome\")\n",
    "            break\n",
    "        j=j-1\n",
    "else:\n",
    "    print(\"palindrome\")"
   ]
  },
  {
   "cell_type": "code",
   "execution_count": 12,
   "id": "d808f7ce-7299-4cb0-a74a-131de5c447b9",
   "metadata": {},
   "outputs": [
    {
     "name": "stdin",
     "output_type": "stream",
     "text": [
      "enter a value 23\n"
     ]
    },
    {
     "name": "stdout",
     "output_type": "stream",
     "text": [
      "prime\n"
     ]
    }
   ],
   "source": [
    "#Prime Number Check\n",
    "n=int(input(\"enter a value\"))\n",
    "for i in range(2,int(n/2+1)):\n",
    "    if n%i==0:\n",
    "        print(\"not prime\")\n",
    "        break\n",
    "else:\n",
    "    print(\"prime\")\n",
    "        "
   ]
  },
  {
   "cell_type": "code",
   "execution_count": 39,
   "id": "13d71e4c-b0cb-4426-9c0e-1ee1aa3b22d7",
   "metadata": {},
   "outputs": [
    {
     "name": "stdout",
     "output_type": "stream",
     "text": [
      "1\n"
     ]
    }
   ],
   "source": [
    "#Sum of Digits in a Number\n",
    "n=1234\n",
    "while n>9:\n",
    "    rev=0\n",
    "    while n>0:\n",
    "        rem=n%10\n",
    "        rev+=rem\n",
    "        n=n//10\n",
    "    n=rev\n",
    "print(rev)"
   ]
  },
  {
   "cell_type": "code",
   "execution_count": 42,
   "id": "6146fac7-7487-47e5-9268-cb795b8389e7",
   "metadata": {},
   "outputs": [
    {
     "name": "stdout",
     "output_type": "stream",
     "text": [
      "maximum: 45\n",
      "minimum: 1\n"
     ]
    }
   ],
   "source": [
    "#Find the Largest and Smallest Element in a List\n",
    "l=[6,4,2,1,5,9,2,4,22,45,1,8]\n",
    "max=l[0]\n",
    "min=l[0]\n",
    "for i in l:\n",
    "    if max<i:\n",
    "        max=i\n",
    "    if min>i:\n",
    "        min=i\n",
    "print(\"maximum:\",max)\n",
    "print(\"minimum:\",min)"
   ]
  },
  {
   "cell_type": "code",
   "execution_count": 45,
   "id": "dc094ccf-287e-4abc-96fa-98d82e3469b2",
   "metadata": {},
   "outputs": [
    {
     "name": "stdout",
     "output_type": "stream",
     "text": [
      "{1: 3, 2: 2, 3: 2}\n"
     ]
    }
   ],
   "source": [
    "#Count Occurrences of Each Element in a List\n",
    "l=[1, 2, 3, 2, 1, 1, 3]\n",
    "d={}\n",
    "for i in l:\n",
    "    if i not in d:\n",
    "        d[i]=1\n",
    "    else:\n",
    "        d[i]+=1\n",
    "print(d)"
   ]
  },
  {
   "cell_type": "code",
   "execution_count": 46,
   "id": "3e985ce6-f8d4-4423-af8b-83a089ee6798",
   "metadata": {},
   "outputs": [
    {
     "name": "stdout",
     "output_type": "stream",
     "text": [
      "{'d': 1, 'o': 6, 'n': 1, 't': 6, ' ': 6, 'r': 4, 'u': 5, 'b': 4, 'l': 4, 'e': 5, 'h': 1, 's': 1, 'y': 1}\n"
     ]
    }
   ],
   "source": [
    "#Count the frequency of each character in a string.\n",
    "s=\"dont trouble the trouble trouble troubles you\"\n",
    "d={}\n",
    "for i in s:\n",
    "    if i not in d:\n",
    "        d[i]=1\n",
    "    else:\n",
    "        d[i]+=1\n",
    "print(d)"
   ]
  },
  {
   "cell_type": "code",
   "execution_count": 47,
   "id": "f57d7296-b40c-4f34-b7ba-13fa7159c2a4",
   "metadata": {},
   "outputs": [
    {
     "name": "stdout",
     "output_type": "stream",
     "text": [
      "[1, 2, 3, 4, 7, 8, 9]\n"
     ]
    }
   ],
   "source": [
    "#Remove duplicates from a list.\n",
    "l=[1,2,3,4,3,2,1,7,8,9,4,3,]\n",
    "unique=[]\n",
    "for i in l:\n",
    "    if i not in unique:\n",
    "        unique.append(i)\n",
    "    else:\n",
    "        pass\n",
    "print(unique)"
   ]
  },
  {
   "cell_type": "code",
   "execution_count": 56,
   "id": "5f1cbbe3-2f2e-4b05-b800-8185978fe141",
   "metadata": {},
   "outputs": [
    {
     "name": "stdin",
     "output_type": "stream",
     "text": [
      "enter a value 6\n"
     ]
    },
    {
     "data": {
      "text/plain": [
       "120"
      ]
     },
     "execution_count": 56,
     "metadata": {},
     "output_type": "execute_result"
    }
   ],
   "source": [
    "#Write a function to calculate the factorial of a number.\n",
    "def fact(n):\n",
    "    fact=1\n",
    "    for i in range(1,n,1):\n",
    "        fact=fact*i\n",
    "    return fact\n",
    "        \n",
    "fact(int(input(\"enter a value\")))"
   ]
  },
  {
   "cell_type": "code",
   "execution_count": 60,
   "id": "710a8c0c-b79f-4099-8006-2ed0f16dbfb4",
   "metadata": {},
   "outputs": [],
   "source": [
    "#second largest and second smallest"
   ]
  },
  {
   "cell_type": "code",
   "execution_count": 67,
   "id": "b804a886-d186-40e2-ad01-3f03952f4f42",
   "metadata": {},
   "outputs": [
    {
     "name": "stdout",
     "output_type": "stream",
     "text": [
      "1 , 2 , FIZZ , 4 , BUZZ , FIZZ , 7 , 8 , FIZZ , BUZZ , 11 , FIZZ , 13 , 14 , FIZZBUZZ , 16 , 17 , FIZZ , 19 , BUZZ , FIZZ , 22 , 23 , FIZZ , BUZZ , 26 , FIZZ , 28 , 29 , FIZZBUZZ , 31 , 32 , FIZZ , 34 , BUZZ , FIZZ , 37 , 38 , FIZZ , BUZZ , 41 , FIZZ , 43 , 44 , FIZZBUZZ , 46 , 47 , FIZZ , 49 , BUZZ , FIZZ , 52 , 53 , FIZZ , BUZZ , 56 , FIZZ , 58 , 59 , FIZZBUZZ , 61 , 62 , FIZZ , 64 , BUZZ , FIZZ , 67 , 68 , FIZZ , BUZZ , 71 , FIZZ , 73 , 74 , FIZZBUZZ , 76 , 77 , FIZZ , 79 , BUZZ , FIZZ , 82 , 83 , FIZZ , BUZZ , 86 , FIZZ , 88 , 89 , FIZZBUZZ , 91 , 92 , FIZZ , 94 , BUZZ , FIZZ , 97 , 98 , FIZZ , BUZZ , "
     ]
    }
   ],
   "source": [
    "#Print numbers from 1 to 100. For multiples of 3, print \"Fizz\"; for multiples of 5, print \"Buzz\"; for multiples of both, print \"FizzBuzz\".\n",
    "for i in range(1,101,1):\n",
    "    if i%3==0 and i%5==0:\n",
    "        print(\"FIZZBUZZ\",end=' , ')\n",
    "    elif i%3==0:\n",
    "        print(\"FIZZ\",end=' , ')\n",
    "    elif i%5==0:\n",
    "        print(\"BUZZ\",end=' , ')\n",
    "    else:\n",
    "        print(i,end=' , ')"
   ]
  },
  {
   "cell_type": "code",
   "execution_count": 79,
   "id": "02f6c8f4-adca-45fc-962f-8b86dcf99a1b",
   "metadata": {},
   "outputs": [
    {
     "name": "stdout",
     "output_type": "stream",
     "text": [
      "listen and silentt is not anangrams\n"
     ]
    }
   ],
   "source": [
    "# Check if two strings are anagrams of each other\n",
    "s=\"listen\"\n",
    "s1=\"silent\"\n",
    "sort1=sorted(s)\n",
    "sort2=sorted(s1)\n",
    "if sort1==sort2:\n",
    "    print(f\"{s} and {s1} is anagrams\")\n",
    "else:\n",
    "    print(f\"{s} and {s1} is not anangrams\")"
   ]
  },
  {
   "cell_type": "code",
   "execution_count": 1,
   "id": "ad3fe115-9c67-4c08-a667-f49609996724",
   "metadata": {},
   "outputs": [
    {
     "name": "stdout",
     "output_type": "stream",
     "text": [
      "ilovepython\n"
     ]
    }
   ],
   "source": [
    "#Remove All Spaces from a String\n",
    "text=\"i love python\"\n",
    "text=text.replace(\" \",\"\")\n",
    "print(text)\n",
    "    \n"
   ]
  },
  {
   "cell_type": "code",
   "execution_count": 2,
   "id": "76efef85-400b-4287-8213-c55ef4af8990",
   "metadata": {},
   "outputs": [
    {
     "name": "stdout",
     "output_type": "stream",
     "text": [
      "[3, 4]\n"
     ]
    }
   ],
   "source": [
    "#Find the Intersection of Two Lists\n",
    "l1=[1,2,3,4]\n",
    "l2=[3,4,5,6]\n",
    "l3=[]\n",
    "for i in l1:\n",
    "    for j in l2:\n",
    "        if i==j:\n",
    "            l3.append(i)\n",
    "        else:\n",
    "            pass\n",
    "print(l3)\n",
    "        "
   ]
  },
  {
   "cell_type": "code",
   "execution_count": 10,
   "id": "5c714b64-6b52-48b8-b290-cc6a675d9c38",
   "metadata": {},
   "outputs": [
    {
     "name": "stdout",
     "output_type": "stream",
     "text": [
      "Frequent item from banana is a\n"
     ]
    }
   ],
   "source": [
    "#Find the Most Frequent Character in a String\n",
    "text=\"banana\"\n",
    "d={}\n",
    "for i in text:\n",
    "    if i not in d:\n",
    "        d[i]=1\n",
    "    else:\n",
    "        d[i]+=1\n",
    "frequent=max(d,key=d.get)\n",
    "print(f\"Frequent item from {text} is {frequent}\")"
   ]
  },
  {
   "cell_type": "code",
   "execution_count": 18,
   "id": "0aa38008-a921-42d7-bccb-ccc3b4fa5b4f",
   "metadata": {},
   "outputs": [
    {
     "name": "stdout",
     "output_type": "stream",
     "text": [
      "['deeksha', \"I'm\", 'python', 'from', 'world', 'hello']\n",
      "[\"world from python I'm deeksha\", 'hello']\n",
      "[\"from python I'm deeksha\", 'world', 'hello']\n"
     ]
    }
   ],
   "source": [
    "#Reverse Words in a String\n",
    "s=\"hello world from python I'm deeksha\"\n",
    "l=s.split()\n",
    "l2=s.split(\" \",1)\n",
    "l3=s.split(\" \",2)\n",
    "print(l[::-1])\n",
    "print(l2[::-1])\n",
    "print(l3[::-1])\n"
   ]
  },
  {
   "cell_type": "code",
   "execution_count": 24,
   "id": "512e8e74-a645-4799-b754-e0806536e706",
   "metadata": {},
   "outputs": [
    {
     "name": "stdout",
     "output_type": "stream",
     "text": [
      "{'banana': 3, 'apple': 3, 'orange': 1}\n",
      "banana\n"
     ]
    }
   ],
   "source": [
    "#Find the Most Frequent Word in a Sentence\n",
    "text=\"banana apple banana apple orange banana apple \"\n",
    "l=text.split()\n",
    "d={}\n",
    "for  i in l:\n",
    "    if i not in d:\n",
    "        d[i]=1\n",
    "    else:\n",
    "        d[i]+=1\n",
    "print(d)\n",
    "frequent=max(d,key=d.get)\n",
    "print(frequent)"
   ]
  },
  {
   "cell_type": "code",
   "execution_count": 1,
   "id": "b40168b2-8771-41ed-afd4-9532ca43dbcf",
   "metadata": {},
   "outputs": [],
   "source": [
    "#convert a number to words\n",
    "n=123\n"
   ]
  },
  {
   "cell_type": "code",
   "execution_count": null,
   "id": "e4e5c947-34f6-4b8c-b546-98df13896db5",
   "metadata": {},
   "outputs": [],
   "source": [
    "#find the digital root of a number\n",
    "n=9875\n",
    "s=str(n)\n",
    "sum=0\n",
    "while n>9:\n",
    "    for i in range(len(s)):\n",
    "        sum+=int(s[i])\n",
    "    n=sum\n",
    "print(sum)"
   ]
  },
  {
   "cell_type": "code",
   "execution_count": null,
   "id": "1a2b547e-ff7e-43d3-9bc5-c9d9b948361c",
   "metadata": {},
   "outputs": [],
   "source": [
    "#Take an integer input from the user and print its reverse without using str().\n",
    "#this is palindrome"
   ]
  },
  {
   "cell_type": "code",
   "execution_count": 6,
   "id": "55814713-0dfe-42c7-8517-3cafca879d49",
   "metadata": {},
   "outputs": [
    {
     "name": "stdout",
     "output_type": "stream",
     "text": [
      "ifmmp3\n"
     ]
    }
   ],
   "source": [
    "#Replace Every Alphabet with the Next Alphabet\n",
    "a = \"hello123\"\n",
    "output=\"\"\n",
    "#ifmmp123\n",
    "for i in a:\n",
    "    if 'a'<=i<='z' or 'A' <=i<='Z':\n",
    "        output=output+(chr(ord(i)+1))\n",
    "else:\n",
    "    output+=i\n",
    "            \n",
    "print(output)"
   ]
  },
  {
   "cell_type": "code",
   "execution_count": 18,
   "id": "b1c6bff9-456a-4255-adbb-13223f8e7d7f",
   "metadata": {},
   "outputs": [
    {
     "name": "stdout",
     "output_type": "stream",
     "text": [
      "6 6\n",
      "lucky number\n"
     ]
    }
   ],
   "source": [
    "#Find if a Number is a \"Lucky Number\"\n",
    "a=123\n",
    "add=0\n",
    "mul=1\n",
    "while a>0:\n",
    "    rem=a%10\n",
    "    add+=rem\n",
    "    mul*=rem\n",
    "    a//=10\n",
    "print(add,mul)\n",
    "if add==mul:\n",
    "    print(\"lucky number\")\n",
    "else:\n",
    "    print(\"not a lucky number\")"
   ]
  },
  {
   "cell_type": "code",
   "execution_count": 37,
   "id": "6e8128d6-f0c0-4237-93be-5369b25d9511",
   "metadata": {},
   "outputs": [
    {
     "name": "stdout",
     "output_type": "stream",
     "text": [
      "InTeRvIeW\n"
     ]
    }
   ],
   "source": [
    "#Convert Even Index Characters to Uppercase, Odd Index to Lowercase\n",
    "a= \"Interview\"\n",
    "output=''\n",
    "for i in range(0,len(a)):\n",
    "    if i%2==0:\n",
    "        output+=a[i].upper()\n",
    "    else:\n",
    "        output+=a[i].lower()\n",
    "print(output)"
   ]
  },
  {
   "cell_type": "code",
   "execution_count": 8,
   "id": "f9d97fb2-bfac-4990-86d9-4a65e1e6376e",
   "metadata": {},
   "outputs": [
    {
     "name": "stdin",
     "output_type": "stream",
     "text": [
      "enter a value 100\n"
     ]
    },
    {
     "name": "stdout",
     "output_type": "stream",
     "text": [
      "1 2 4 5 8 10 11 16 19 20 22 25 26 29 31 32 34 38 40 41 44 46 50 52 55 58 59 61 62 64 65 68 71 74 76 79 80 82 85 86 88 89 92 94 95 100 "
     ]
    }
   ],
   "source": [
    "#Print Numbers without 3 and 7\n",
    "n=int(input(\"enter a value\"))\n",
    "for i in range(1,n+1):\n",
    "    if i%3==0 or i%7==0 or i%10==3 or i%10==7:\n",
    "        continue\n",
    "    else:\n",
    "        print(i,end=\" \")"
   ]
  },
  {
   "cell_type": "code",
   "execution_count": 9,
   "id": "bd44b98a-7998-44d0-b127-9b6a924ce122",
   "metadata": {},
   "outputs": [
    {
     "name": "stdout",
     "output_type": "stream",
     "text": [
      "198\n"
     ]
    }
   ],
   "source": [
    "#Print the Sum of ASCII Values of Vowels in a String\n",
    "example=\"apple\"\n",
    "sum=0\n",
    "for i in example:\n",
    "    if i in \"aeiouAEIOU\":\n",
    "        sum+=ord(i)\n",
    "    else:\n",
    "        continue\n",
    "print(sum)"
   ]
  },
  {
   "cell_type": "code",
   "execution_count": 12,
   "id": "997485a4-94ba-42b2-85ba-0b864c5f49d8",
   "metadata": {},
   "outputs": [
    {
     "name": "stdout",
     "output_type": "stream",
     "text": [
      "hEllO woRLD\n"
     ]
    }
   ],
   "source": [
    "#Swap Lowercase with Uppercase using ASCII\n",
    "inp=\"HeLLo WOrld\"\n",
    "out=\"\"\n",
    "for i in inp:\n",
    "    if 'A'<=i<='Z':\n",
    "        out+=i.lower()\n",
    "    else:\n",
    "        out+=i.upper()\n",
    "print(out)"
   ]
  },
  {
   "cell_type": "code",
   "execution_count": 12,
   "id": "a76a116b-f842-46ea-bc75-ea6e516fa8c7",
   "metadata": {},
   "outputs": [
    {
     "name": "stdout",
     "output_type": "stream",
     "text": [
      "114\n",
      "r\n"
     ]
    }
   ],
   "source": [
    "#Find the Alphabet with the Highest ASCII Value in a String\n",
    "inp=\"HeLLo WOrld\"\n",
    "maxi=0\n",
    "for i in inp:\n",
    "    if ord(i)>maxi:\n",
    "        maxi=ord(i)\n",
    "        s=i\n",
    "print(maxi)\n",
    "print(s)\n"
   ]
  },
  {
   "cell_type": "code",
   "execution_count": 13,
   "id": "6e42be5e-e50d-4598-b877-0710e9d3b4a5",
   "metadata": {},
   "outputs": [
    {
     "name": "stdin",
     "output_type": "stream",
     "text": [
      "enter 1st value a\n",
      "enter 2nd value 2\n"
     ]
    },
    {
     "name": "stdout",
     "output_type": "stream",
     "text": [
      "-47\n"
     ]
    }
   ],
   "source": [
    "#Find the Distance Between Two Alphabets\n",
    "a=input(\"enter 1st value\")\n",
    "b=input(\"enter 2nd value\")\n",
    "if len(a)>1 or len(b)>1:\n",
    "        print(\"Enter single digit for both inputs\")\n",
    "else:\n",
    "    print(ord(b)-ord(a))"
   ]
  },
  {
   "cell_type": "code",
   "execution_count": 4,
   "id": "8c48a047-78c7-414e-bdc3-4401026fb290",
   "metadata": {},
   "outputs": [
    {
     "name": "stdin",
     "output_type": "stream",
     "text": [
      "Enter a number:  98\n"
     ]
    },
    {
     "name": "stdout",
     "output_type": "stream",
     "text": [
      "Reversed number: 89\n",
      "Nearest palindrome for 98 is 99\n"
     ]
    }
   ],
   "source": [
    "def closest_palindrome(num):\n",
    "    low = num - 1\n",
    "    high = num + 1\n",
    "    while True:\n",
    "        \n",
    "        if str(low) == str(low)[::-1]:\n",
    "            return low\n",
    "        \n",
    "        elif str(high) == str(high)[::-1]:\n",
    "            return high\n",
    "        \n",
    "        low -= 1\n",
    "        high += 1\n",
    "\n",
    "n = int(input(\"Enter a number: \"))\n",
    "num = n\n",
    "\n",
    "pal = 0\n",
    "\n",
    "while n > 0:\n",
    "    rem = n % 10\n",
    "    pal = pal * 10 + rem\n",
    "    n //= 10\n",
    "\n",
    "print(f\"Reversed number: {pal}\")\n",
    "\n",
    "if num == pal:\n",
    "    print(f\"{num} is a palindrome!\")\n",
    "else:\n",
    "    value = closest_palindrome(num)\n",
    "    print(f\"Nearest palindrome for {num} is {value}\")\n"
   ]
  },
  {
   "cell_type": "code",
   "execution_count": null,
   "id": "ccb41892-6933-4b61-8071-3bf60c5dfdf7",
   "metadata": {},
   "outputs": [],
   "source": []
  },
  {
   "cell_type": "code",
   "execution_count": 13,
   "id": "103fcf31-2e41-4b4a-8f7f-f1b38b8cd352",
   "metadata": {},
   "outputs": [
    {
     "name": "stdout",
     "output_type": "stream",
     "text": [
      "def\n"
     ]
    }
   ],
   "source": [
    "#convert a Number into a \"Special String\"\n",
    "a=3\n",
    "s=\"\"\n",
    "for i in range(a):\n",
    "    s=s+chr(100+i)\n",
    "print(s)"
   ]
  },
  {
   "cell_type": "code",
   "execution_count": 10,
   "id": "4d8dc8ca-72fa-46ea-a779-4503ecae3148",
   "metadata": {},
   "outputs": [
    {
     "data": {
      "text/plain": [
       "'g'"
      ]
     },
     "execution_count": 10,
     "metadata": {},
     "output_type": "execute_result"
    }
   ],
   "source": [
    "chr(100+3)"
   ]
  },
  {
   "cell_type": "code",
   "execution_count": 1,
   "id": "9e678eef-2e63-41e1-8a27-cb24af03a875",
   "metadata": {},
   "outputs": [],
   "source": [
    "#string based"
   ]
  },
  {
   "cell_type": "code",
   "execution_count": 3,
   "id": "ed6f3e7c-9f38-4309-9f2d-51a495f242c8",
   "metadata": {},
   "outputs": [
    {
     "name": "stdout",
     "output_type": "stream",
     "text": [
      "PCG\n",
      "ythonodin\n"
     ]
    }
   ],
   "source": [
    "#Count Uppercase and Lowercase Letters Without isupper() or islower()\n",
    "s=\"PythonCodinG\"\n",
    "upper=\"\"\n",
    "lower=''\n",
    "for i in s:\n",
    "    if \"A \"<=i<=\"Z\":\n",
    "        upper+=i\n",
    "    else:\n",
    "        lower+=i\n",
    "print(upper)\n",
    "print(lower)"
   ]
  },
  {
   "cell_type": "code",
   "execution_count": 9,
   "id": "0b79983e-b439-4d30-84a7-63ff743eb915",
   "metadata": {},
   "outputs": [
    {
     "name": "stdout",
     "output_type": "stream",
     "text": [
      "palindrome\n"
     ]
    }
   ],
   "source": [
    "# Check If a String is a Palindrome Without Reversing\n",
    "s=\"madam\"\n",
    "end=len(s)-1\n",
    "for i in range(len(s)):\n",
    "    if s[i]!=s[end]:\n",
    "        print(\"not palindrome\")\n",
    "        break\n",
    "    end-=1\n",
    "else:\n",
    "    print(\"palindrome\")"
   ]
  },
  {
   "cell_type": "code",
   "execution_count": 13,
   "id": "0053ad22-95ec-466f-b7a6-cd959c81a4c2",
   "metadata": {},
   "outputs": [
    {
     "name": "stdout",
     "output_type": "stream",
     "text": [
      "['a', 'b', 'c', 'd']\n",
      "abcd\n"
     ]
    }
   ],
   "source": [
    "#Sort Characters of a String Without sorted()\n",
    "s=\"dbca\"\n",
    "s=list(s)\n",
    "for i in range(len(s)):\n",
    "    for j in range(i+1,len(s)):\n",
    "        if s[i]>s[j]:\n",
    "            s[i],s[j]=s[j],s[i]\n",
    "print(s)\n",
    "print(\"\".join(s))"
   ]
  },
  {
   "cell_type": "code",
   "execution_count": 21,
   "id": "53b57ebf-9806-4e51-93b4-527fda55179c",
   "metadata": {},
   "outputs": [
    {
     "name": "stdout",
     "output_type": "stream",
     "text": [
      "hfllp\n"
     ]
    }
   ],
   "source": [
    "#Replace Vowels with Next Alphabet\n",
    "s='hello'\n",
    "vowel='AEIOUaeiou'\n",
    "new=''\n",
    "for i in s:\n",
    "    if i in vowel:\n",
    "        new+=chr(ord(i)+1)\n",
    "    else:\n",
    "        new+=i\n",
    "print(new)"
   ]
  },
  {
   "cell_type": "code",
   "execution_count": null,
   "id": "714c9943-a3de-41ee-bafc-f6e62af264e4",
   "metadata": {},
   "outputs": [],
   "source": [
    "# Find Longest Word in a Sentence"
   ]
  }
 ],
 "metadata": {
  "kernelspec": {
   "display_name": "Python 3 (ipykernel)",
   "language": "python",
   "name": "python3"
  },
  "language_info": {
   "codemirror_mode": {
    "name": "ipython",
    "version": 3
   },
   "file_extension": ".py",
   "mimetype": "text/x-python",
   "name": "python",
   "nbconvert_exporter": "python",
   "pygments_lexer": "ipython3",
   "version": "3.12.7"
  }
 },
 "nbformat": 4,
 "nbformat_minor": 5
}
